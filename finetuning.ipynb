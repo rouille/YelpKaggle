{
 "cells": [
  {
   "cell_type": "markdown",
   "metadata": {},
   "source": [
    "# Fine-tuning ResNet50\n",
    "\n",
    "---\n",
    "\n",
    "## 1. Load Tensors and Targets"
   ]
  },
  {
   "cell_type": "code",
   "execution_count": 2,
   "metadata": {
    "scrolled": true
   },
   "outputs": [
    {
     "name": "stdout",
     "output_type": "stream",
     "text": [
      "There are 176131 images in the training dataset\n",
      "There are 29355 images in the validation dataset\n",
      "There are 29356 images in the test dataset\n"
     ]
    }
   ],
   "source": [
    "import numpy as np\n",
    "from common import *\n",
    "\n",
    "train_ids, train_targets = load_dataset('data/preprocess/train.npz')\n",
    "valid_ids, valid_targets = load_dataset('data/preprocess/valid.npz')\n",
    "test_ids, test_targets = load_dataset('data/preprocess/test.npz')\n",
    "\n",
    "train_files = np.array(['data/train_photos/' + str(i) + '.jpg' for i in train_ids])\n",
    "valid_files = np.array(['data/train_photos/' + str(i) + '.jpg' for i in valid_ids])\n",
    "test_files = np.array(['data/train_photos/' + str(i) + '.jpg' for i in test_ids])\n",
    "\n",
    "del train_ids, valid_ids, test_ids\n",
    "\n",
    "print('There are %d images in the training dataset' % len(train_files))\n",
    "print('There are %d images in the validation dataset' % len(valid_files))\n",
    "print('There are %d images in the test dataset' % len(test_files))"
   ]
  },
  {
   "cell_type": "code",
   "execution_count": 3,
   "metadata": {},
   "outputs": [
    {
     "name": "stderr",
     "output_type": "stream",
     "text": [
      "100%|██████████| 50000/50000 [03:52<00:00, 214.79it/s]\n",
      "100%|██████████| 5000/5000 [00:22<00:00, 226.33it/s]\n",
      "100%|██████████| 5000/5000 [00:22<00:00, 226.22it/s]\n"
     ]
    }
   ],
   "source": [
    "from keras.applications.resnet50 import preprocess_input\n",
    "\n",
    "nb_train, nb_valid, nb_test = (50000,5000,5000)\n",
    "\n",
    "train_tensors = preprocess_input(paths_to_tensor(train_files[:nb_train]))\n",
    "del train_files\n",
    "valid_tensors = preprocess_input(paths_to_tensor(valid_files[:nb_valid]))\n",
    "del valid_files\n",
    "test_tensors = preprocess_input(paths_to_tensor(test_files[:nb_test]))\n",
    "del test_files"
   ]
  },
  {
   "cell_type": "markdown",
   "metadata": {},
   "source": [
    "## 2. Import the ResNet50 Deep Learning Model"
   ]
  },
  {
   "cell_type": "code",
   "execution_count": 4,
   "metadata": {},
   "outputs": [
    {
     "name": "stdout",
     "output_type": "stream",
     "text": [
      "0 input_1\n",
      "1 conv1\n",
      "2 bn_conv1\n",
      "3 activation_1\n",
      "4 max_pooling2d_1\n",
      "5 res2a_branch2a\n",
      "6 bn2a_branch2a\n",
      "7 activation_2\n",
      "8 res2a_branch2b\n",
      "9 bn2a_branch2b\n",
      "10 activation_3\n",
      "11 res2a_branch2c\n",
      "12 res2a_branch1\n",
      "13 bn2a_branch2c\n",
      "14 bn2a_branch1\n",
      "15 add_1\n",
      "16 activation_4\n",
      "17 res2b_branch2a\n",
      "18 bn2b_branch2a\n",
      "19 activation_5\n",
      "20 res2b_branch2b\n",
      "21 bn2b_branch2b\n",
      "22 activation_6\n",
      "23 res2b_branch2c\n",
      "24 bn2b_branch2c\n",
      "25 add_2\n",
      "26 activation_7\n",
      "27 res2c_branch2a\n",
      "28 bn2c_branch2a\n",
      "29 activation_8\n",
      "30 res2c_branch2b\n",
      "31 bn2c_branch2b\n",
      "32 activation_9\n",
      "33 res2c_branch2c\n",
      "34 bn2c_branch2c\n",
      "35 add_3\n",
      "36 activation_10\n",
      "37 res3a_branch2a\n",
      "38 bn3a_branch2a\n",
      "39 activation_11\n",
      "40 res3a_branch2b\n",
      "41 bn3a_branch2b\n",
      "42 activation_12\n",
      "43 res3a_branch2c\n",
      "44 res3a_branch1\n",
      "45 bn3a_branch2c\n",
      "46 bn3a_branch1\n",
      "47 add_4\n",
      "48 activation_13\n",
      "49 res3b_branch2a\n",
      "50 bn3b_branch2a\n",
      "51 activation_14\n",
      "52 res3b_branch2b\n",
      "53 bn3b_branch2b\n",
      "54 activation_15\n",
      "55 res3b_branch2c\n",
      "56 bn3b_branch2c\n",
      "57 add_5\n",
      "58 activation_16\n",
      "59 res3c_branch2a\n",
      "60 bn3c_branch2a\n",
      "61 activation_17\n",
      "62 res3c_branch2b\n",
      "63 bn3c_branch2b\n",
      "64 activation_18\n",
      "65 res3c_branch2c\n",
      "66 bn3c_branch2c\n",
      "67 add_6\n",
      "68 activation_19\n",
      "69 res3d_branch2a\n",
      "70 bn3d_branch2a\n",
      "71 activation_20\n",
      "72 res3d_branch2b\n",
      "73 bn3d_branch2b\n",
      "74 activation_21\n",
      "75 res3d_branch2c\n",
      "76 bn3d_branch2c\n",
      "77 add_7\n",
      "78 activation_22\n",
      "79 res4a_branch2a\n",
      "80 bn4a_branch2a\n",
      "81 activation_23\n",
      "82 res4a_branch2b\n",
      "83 bn4a_branch2b\n",
      "84 activation_24\n",
      "85 res4a_branch2c\n",
      "86 res4a_branch1\n",
      "87 bn4a_branch2c\n",
      "88 bn4a_branch1\n",
      "89 add_8\n",
      "90 activation_25\n",
      "91 res4b_branch2a\n",
      "92 bn4b_branch2a\n",
      "93 activation_26\n",
      "94 res4b_branch2b\n",
      "95 bn4b_branch2b\n",
      "96 activation_27\n",
      "97 res4b_branch2c\n",
      "98 bn4b_branch2c\n",
      "99 add_9\n",
      "100 activation_28\n",
      "101 res4c_branch2a\n",
      "102 bn4c_branch2a\n",
      "103 activation_29\n",
      "104 res4c_branch2b\n",
      "105 bn4c_branch2b\n",
      "106 activation_30\n",
      "107 res4c_branch2c\n",
      "108 bn4c_branch2c\n",
      "109 add_10\n",
      "110 activation_31\n",
      "111 res4d_branch2a\n",
      "112 bn4d_branch2a\n",
      "113 activation_32\n",
      "114 res4d_branch2b\n",
      "115 bn4d_branch2b\n",
      "116 activation_33\n",
      "117 res4d_branch2c\n",
      "118 bn4d_branch2c\n",
      "119 add_11\n",
      "120 activation_34\n",
      "121 res4e_branch2a\n",
      "122 bn4e_branch2a\n",
      "123 activation_35\n",
      "124 res4e_branch2b\n",
      "125 bn4e_branch2b\n",
      "126 activation_36\n",
      "127 res4e_branch2c\n",
      "128 bn4e_branch2c\n",
      "129 add_12\n",
      "130 activation_37\n",
      "131 res4f_branch2a\n",
      "132 bn4f_branch2a\n",
      "133 activation_38\n",
      "134 res4f_branch2b\n",
      "135 bn4f_branch2b\n",
      "136 activation_39\n",
      "137 res4f_branch2c\n",
      "138 bn4f_branch2c\n",
      "139 add_13\n",
      "140 activation_40\n",
      "141 res5a_branch2a\n",
      "142 bn5a_branch2a\n",
      "143 activation_41\n",
      "144 res5a_branch2b\n",
      "145 bn5a_branch2b\n",
      "146 activation_42\n",
      "147 res5a_branch2c\n",
      "148 res5a_branch1\n",
      "149 bn5a_branch2c\n",
      "150 bn5a_branch1\n",
      "151 add_14\n",
      "152 activation_43\n",
      "153 res5b_branch2a\n",
      "154 bn5b_branch2a\n",
      "155 activation_44\n",
      "156 res5b_branch2b\n",
      "157 bn5b_branch2b\n",
      "158 activation_45\n",
      "159 res5b_branch2c\n",
      "160 bn5b_branch2c\n",
      "161 add_15\n",
      "162 activation_46\n",
      "163 res5c_branch2a\n",
      "164 bn5c_branch2a\n",
      "165 activation_47\n",
      "166 res5c_branch2b\n",
      "167 bn5c_branch2b\n",
      "168 activation_48\n",
      "169 res5c_branch2c\n",
      "170 bn5c_branch2c\n",
      "171 add_16\n",
      "172 activation_49\n",
      "173 avg_pool\n"
     ]
    }
   ],
   "source": [
    "from keras.applications.resnet50 import ResNet50\n",
    "\n",
    "base_model = ResNet50(weights='imagenet', include_top=False)\n",
    "\n",
    "for i, layer in enumerate(base_model.layers): print(i, layer.name)"
   ]
  },
  {
   "cell_type": "code",
   "execution_count": 5,
   "metadata": {
    "collapsed": true
   },
   "outputs": [],
   "source": [
    "for layer in base_model.layers: layer.trainable = False"
   ]
  },
  {
   "cell_type": "markdown",
   "metadata": {},
   "source": [
    "## 3. Add New Layers"
   ]
  },
  {
   "cell_type": "code",
   "execution_count": 6,
   "metadata": {},
   "outputs": [
    {
     "name": "stdout",
     "output_type": "stream",
     "text": [
      "Train on 50000 samples, validate on 5000 samples\n",
      "Epoch 1/5\n",
      "50000/50000 [==============================] - 106s 2ms/step - loss: 0.5673 - acc: 0.7047 - val_loss: 0.5186 - val_acc: 0.7310\n",
      "Epoch 2/5\n",
      "50000/50000 [==============================] - 102s 2ms/step - loss: 0.5352 - acc: 0.7218 - val_loss: 0.5123 - val_acc: 0.7366\n",
      "Epoch 3/5\n",
      "50000/50000 [==============================] - 102s 2ms/step - loss: 0.5289 - acc: 0.7273 - val_loss: 0.4984 - val_acc: 0.7490\n",
      "Epoch 4/5\n",
      "50000/50000 [==============================] - 102s 2ms/step - loss: 0.5255 - acc: 0.7301 - val_loss: 0.5049 - val_acc: 0.7439\n",
      "Epoch 5/5\n",
      "50000/50000 [==============================] - 102s 2ms/step - loss: 0.5203 - acc: 0.7343 - val_loss: 0.5072 - val_acc: 0.7382\n"
     ]
    },
    {
     "data": {
      "text/plain": [
       "<keras.callbacks.History at 0x7f6fd26c3b00>"
      ]
     },
     "execution_count": 6,
     "metadata": {},
     "output_type": "execute_result"
    }
   ],
   "source": [
    "from keras.layers import Dropout, GlobalAveragePooling2D, Dense\n",
    "from keras.models import Model\n",
    "\n",
    "addon = base_model.output\n",
    "addon = Dropout(0.75)(addon)\n",
    "addon = GlobalAveragePooling2D()(addon)\n",
    "addon = Dense(1024, activation='relu')(addon)\n",
    "top = Dense(9, activation='sigmoid')(addon)\n",
    "\n",
    "model = Model(inputs=base_model.input, outputs=top)\n",
    "\n",
    "model.compile(optimizer='rmsprop', loss='binary_crossentropy', metrics=['accuracy'])\n",
    "\n",
    "model.fit(train_tensors, train_targets[:nb_train], validation_data=(valid_tensors,valid_targets[:nb_valid]),\n",
    "          epochs=5, batch_size=64, verbose=1)"
   ]
  },
  {
   "cell_type": "markdown",
   "metadata": {},
   "source": [
    "## 4. Fine-tune Model"
   ]
  },
  {
   "cell_type": "code",
   "execution_count": 7,
   "metadata": {
    "collapsed": true
   },
   "outputs": [],
   "source": [
    "for layer in model.layers[:131]:\n",
    "   layer.trainable = False\n",
    "for layer in model.layers[131:]:\n",
    "   layer.trainable = True"
   ]
  },
  {
   "cell_type": "code",
   "execution_count": 8,
   "metadata": {
    "collapsed": true
   },
   "outputs": [],
   "source": [
    "from keras.optimizers import SGD\n",
    "\n",
    "sgd = SGD(lr=0.0001, momentum=0.9, decay=1e-6, nesterov=True)\n",
    "model.compile(optimizer=sgd, loss='binary_crossentropy', metrics=['accuracy'])"
   ]
  },
  {
   "cell_type": "code",
   "execution_count": 9,
   "metadata": {
    "scrolled": false
   },
   "outputs": [
    {
     "name": "stdout",
     "output_type": "stream",
     "text": [
      "Train on 50000 samples, validate on 5000 samples\n",
      "Epoch 1/300\n",
      "50000/50000 [==============================] - 125s 2ms/step - loss: 0.5159 - acc: 0.7365 - val_loss: 0.5012 - val_acc: 0.7516\n",
      "Epoch 2/300\n",
      "50000/50000 [==============================] - 123s 2ms/step - loss: 0.5092 - acc: 0.7407 - val_loss: 0.4998 - val_acc: 0.7533\n",
      "Epoch 3/300\n",
      "50000/50000 [==============================] - 123s 2ms/step - loss: 0.5076 - acc: 0.7413 - val_loss: 0.4988 - val_acc: 0.7542\n",
      "Epoch 4/300\n",
      "50000/50000 [==============================] - 123s 2ms/step - loss: 0.5060 - acc: 0.7431 - val_loss: 0.4977 - val_acc: 0.7542\n",
      "Epoch 5/300\n",
      "50000/50000 [==============================] - 123s 2ms/step - loss: 0.5028 - acc: 0.7447 - val_loss: 0.4966 - val_acc: 0.7551\n",
      "Epoch 6/300\n",
      "50000/50000 [==============================] - 123s 2ms/step - loss: 0.5008 - acc: 0.7456 - val_loss: 0.4955 - val_acc: 0.7557\n",
      "Epoch 7/300\n",
      "50000/50000 [==============================] - 123s 2ms/step - loss: 0.5001 - acc: 0.7464 - val_loss: 0.4945 - val_acc: 0.7566\n",
      "Epoch 8/300\n",
      "50000/50000 [==============================] - 123s 2ms/step - loss: 0.4986 - acc: 0.7485 - val_loss: 0.4936 - val_acc: 0.7569\n",
      "Epoch 9/300\n",
      "50000/50000 [==============================] - 122s 2ms/step - loss: 0.4963 - acc: 0.7490 - val_loss: 0.4930 - val_acc: 0.7570\n",
      "Epoch 10/300\n",
      "50000/50000 [==============================] - 123s 2ms/step - loss: 0.4940 - acc: 0.7504 - val_loss: 0.4918 - val_acc: 0.7575\n",
      "Epoch 11/300\n",
      "50000/50000 [==============================] - 123s 2ms/step - loss: 0.4936 - acc: 0.7505 - val_loss: 0.4912 - val_acc: 0.7585\n",
      "Epoch 12/300\n",
      "50000/50000 [==============================] - 122s 2ms/step - loss: 0.4926 - acc: 0.7511 - val_loss: 0.4902 - val_acc: 0.7591\n",
      "Epoch 13/300\n",
      "50000/50000 [==============================] - 123s 2ms/step - loss: 0.4905 - acc: 0.7519 - val_loss: 0.4893 - val_acc: 0.7587\n",
      "Epoch 14/300\n",
      "50000/50000 [==============================] - 123s 2ms/step - loss: 0.4893 - acc: 0.7526 - val_loss: 0.4883 - val_acc: 0.7600\n",
      "Epoch 15/300\n",
      "50000/50000 [==============================] - 123s 2ms/step - loss: 0.4881 - acc: 0.7539 - val_loss: 0.4879 - val_acc: 0.7599\n",
      "Epoch 16/300\n",
      "50000/50000 [==============================] - 122s 2ms/step - loss: 0.4872 - acc: 0.7546 - val_loss: 0.4873 - val_acc: 0.7593\n",
      "Epoch 17/300\n",
      "50000/50000 [==============================] - 123s 2ms/step - loss: 0.4849 - acc: 0.7569 - val_loss: 0.4864 - val_acc: 0.7606\n",
      "Epoch 18/300\n",
      "50000/50000 [==============================] - 122s 2ms/step - loss: 0.4832 - acc: 0.7571 - val_loss: 0.4856 - val_acc: 0.7609\n",
      "Epoch 19/300\n",
      "50000/50000 [==============================] - 123s 2ms/step - loss: 0.4842 - acc: 0.7559 - val_loss: 0.4853 - val_acc: 0.7609\n",
      "Epoch 20/300\n",
      "50000/50000 [==============================] - 123s 2ms/step - loss: 0.4825 - acc: 0.7582 - val_loss: 0.4846 - val_acc: 0.7613\n",
      "Epoch 21/300\n",
      "50000/50000 [==============================] - 122s 2ms/step - loss: 0.4806 - acc: 0.7588 - val_loss: 0.4841 - val_acc: 0.7611\n",
      "Epoch 22/300\n",
      "50000/50000 [==============================] - 122s 2ms/step - loss: 0.4797 - acc: 0.7589 - val_loss: 0.4835 - val_acc: 0.7613\n",
      "Epoch 23/300\n",
      "50000/50000 [==============================] - 123s 2ms/step - loss: 0.4786 - acc: 0.7606 - val_loss: 0.4830 - val_acc: 0.7606\n",
      "Epoch 24/300\n",
      "50000/50000 [==============================] - 122s 2ms/step - loss: 0.4778 - acc: 0.7599 - val_loss: 0.4821 - val_acc: 0.7620\n",
      "Epoch 25/300\n",
      "50000/50000 [==============================] - 122s 2ms/step - loss: 0.4767 - acc: 0.7611 - val_loss: 0.4817 - val_acc: 0.7627\n",
      "Epoch 26/300\n",
      "50000/50000 [==============================] - 123s 2ms/step - loss: 0.4757 - acc: 0.7617 - val_loss: 0.4809 - val_acc: 0.7620\n",
      "Epoch 27/300\n",
      "50000/50000 [==============================] - 122s 2ms/step - loss: 0.4749 - acc: 0.7623 - val_loss: 0.4806 - val_acc: 0.7626\n",
      "Epoch 28/300\n",
      "50000/50000 [==============================] - 122s 2ms/step - loss: 0.4730 - acc: 0.7625 - val_loss: 0.4799 - val_acc: 0.7632\n",
      "Epoch 29/300\n",
      "50000/50000 [==============================] - 122s 2ms/step - loss: 0.4731 - acc: 0.7629 - val_loss: 0.4795 - val_acc: 0.7637\n",
      "Epoch 30/300\n",
      "50000/50000 [==============================] - 122s 2ms/step - loss: 0.4711 - acc: 0.7639 - val_loss: 0.4790 - val_acc: 0.7629\n",
      "Epoch 31/300\n",
      "50000/50000 [==============================] - 122s 2ms/step - loss: 0.4709 - acc: 0.7640 - val_loss: 0.4786 - val_acc: 0.7637\n",
      "Epoch 32/300\n",
      "50000/50000 [==============================] - 122s 2ms/step - loss: 0.4701 - acc: 0.7643 - val_loss: 0.4782 - val_acc: 0.7636\n",
      "Epoch 33/300\n",
      "50000/50000 [==============================] - 123s 2ms/step - loss: 0.4683 - acc: 0.7663 - val_loss: 0.4775 - val_acc: 0.7642\n",
      "Epoch 34/300\n",
      "50000/50000 [==============================] - 122s 2ms/step - loss: 0.4671 - acc: 0.7663 - val_loss: 0.4771 - val_acc: 0.7651\n",
      "Epoch 35/300\n",
      "50000/50000 [==============================] - 123s 2ms/step - loss: 0.4680 - acc: 0.7662 - val_loss: 0.4767 - val_acc: 0.7640\n",
      "Epoch 36/300\n",
      "50000/50000 [==============================] - 122s 2ms/step - loss: 0.4662 - acc: 0.7668 - val_loss: 0.4763 - val_acc: 0.7646\n",
      "Epoch 37/300\n",
      "50000/50000 [==============================] - 122s 2ms/step - loss: 0.4650 - acc: 0.7687 - val_loss: 0.4758 - val_acc: 0.7649\n",
      "Epoch 38/300\n",
      "50000/50000 [==============================] - 122s 2ms/step - loss: 0.4640 - acc: 0.7684 - val_loss: 0.4756 - val_acc: 0.7645\n",
      "Epoch 39/300\n",
      "50000/50000 [==============================] - 123s 2ms/step - loss: 0.4632 - acc: 0.7690 - val_loss: 0.4753 - val_acc: 0.7645\n",
      "Epoch 40/300\n",
      "50000/50000 [==============================] - 122s 2ms/step - loss: 0.4639 - acc: 0.7686 - val_loss: 0.4750 - val_acc: 0.7648\n",
      "Epoch 41/300\n",
      "50000/50000 [==============================] - 123s 2ms/step - loss: 0.4619 - acc: 0.7703 - val_loss: 0.4743 - val_acc: 0.7650\n",
      "Epoch 42/300\n",
      "50000/50000 [==============================] - 122s 2ms/step - loss: 0.4603 - acc: 0.7713 - val_loss: 0.4738 - val_acc: 0.7649\n",
      "Epoch 43/300\n",
      "50000/50000 [==============================] - 123s 2ms/step - loss: 0.4603 - acc: 0.7708 - val_loss: 0.4734 - val_acc: 0.7654\n",
      "Epoch 44/300\n",
      "50000/50000 [==============================] - 122s 2ms/step - loss: 0.4580 - acc: 0.7717 - val_loss: 0.4731 - val_acc: 0.7654\n",
      "Epoch 45/300\n",
      "50000/50000 [==============================] - 123s 2ms/step - loss: 0.4574 - acc: 0.7723 - val_loss: 0.4730 - val_acc: 0.7654\n",
      "Epoch 46/300\n",
      "50000/50000 [==============================] - 122s 2ms/step - loss: 0.4569 - acc: 0.7718 - val_loss: 0.4722 - val_acc: 0.7656\n",
      "Epoch 47/300\n",
      "50000/50000 [==============================] - 123s 2ms/step - loss: 0.4567 - acc: 0.7728 - val_loss: 0.4721 - val_acc: 0.7658\n",
      "Epoch 48/300\n",
      "50000/50000 [==============================] - 122s 2ms/step - loss: 0.4554 - acc: 0.7727 - val_loss: 0.4719 - val_acc: 0.7663\n",
      "Epoch 49/300\n",
      "50000/50000 [==============================] - 123s 2ms/step - loss: 0.4546 - acc: 0.7732 - val_loss: 0.4718 - val_acc: 0.7660\n",
      "Epoch 50/300\n",
      "50000/50000 [==============================] - 123s 2ms/step - loss: 0.4531 - acc: 0.7736 - val_loss: 0.4713 - val_acc: 0.7659\n",
      "Epoch 51/300\n",
      "50000/50000 [==============================] - 122s 2ms/step - loss: 0.4522 - acc: 0.7748 - val_loss: 0.4708 - val_acc: 0.7666\n",
      "Epoch 52/300\n",
      "50000/50000 [==============================] - 123s 2ms/step - loss: 0.4528 - acc: 0.7748 - val_loss: 0.4703 - val_acc: 0.7668\n",
      "Epoch 53/300\n",
      "50000/50000 [==============================] - 122s 2ms/step - loss: 0.4517 - acc: 0.7748 - val_loss: 0.4704 - val_acc: 0.7666\n",
      "Epoch 54/300\n",
      "50000/50000 [==============================] - 122s 2ms/step - loss: 0.4506 - acc: 0.7755 - val_loss: 0.4701 - val_acc: 0.7668\n",
      "Epoch 55/300\n",
      "50000/50000 [==============================] - 123s 2ms/step - loss: 0.4490 - acc: 0.7763 - val_loss: 0.4695 - val_acc: 0.7676\n",
      "Epoch 56/300\n",
      "50000/50000 [==============================] - 122s 2ms/step - loss: 0.4488 - acc: 0.7761 - val_loss: 0.4696 - val_acc: 0.7673\n",
      "Epoch 57/300\n",
      "50000/50000 [==============================] - 122s 2ms/step - loss: 0.4482 - acc: 0.7774 - val_loss: 0.4691 - val_acc: 0.7666\n",
      "Epoch 58/300\n",
      "50000/50000 [==============================] - 123s 2ms/step - loss: 0.4469 - acc: 0.7779 - val_loss: 0.4691 - val_acc: 0.7669\n",
      "Epoch 59/300\n",
      "50000/50000 [==============================] - 122s 2ms/step - loss: 0.4463 - acc: 0.7784 - val_loss: 0.4688 - val_acc: 0.7668\n",
      "Epoch 60/300\n",
      "50000/50000 [==============================] - 124s 2ms/step - loss: 0.4442 - acc: 0.7794 - val_loss: 0.4684 - val_acc: 0.7671\n",
      "Epoch 61/300\n",
      "50000/50000 [==============================] - 128s 3ms/step - loss: 0.4434 - acc: 0.7797 - val_loss: 0.4681 - val_acc: 0.7676\n",
      "Epoch 62/300\n",
      "50000/50000 [==============================] - 126s 3ms/step - loss: 0.4422 - acc: 0.7808 - val_loss: 0.4677 - val_acc: 0.7678\n",
      "Epoch 63/300\n",
      "50000/50000 [==============================] - 124s 2ms/step - loss: 0.4422 - acc: 0.7803 - val_loss: 0.4678 - val_acc: 0.7678\n",
      "Epoch 64/300\n",
      "50000/50000 [==============================] - 123s 2ms/step - loss: 0.4418 - acc: 0.7807 - val_loss: 0.4675 - val_acc: 0.7674\n",
      "Epoch 65/300\n",
      "50000/50000 [==============================] - 123s 2ms/step - loss: 0.4402 - acc: 0.7816 - val_loss: 0.4672 - val_acc: 0.7686\n",
      "Epoch 66/300\n",
      "50000/50000 [==============================] - 123s 2ms/step - loss: 0.4389 - acc: 0.7823 - val_loss: 0.4673 - val_acc: 0.7680\n",
      "Epoch 67/300\n",
      "50000/50000 [==============================] - 123s 2ms/step - loss: 0.4389 - acc: 0.7823 - val_loss: 0.4667 - val_acc: 0.7681\n",
      "Epoch 68/300\n",
      "50000/50000 [==============================] - 123s 2ms/step - loss: 0.4372 - acc: 0.7828 - val_loss: 0.4667 - val_acc: 0.7681\n",
      "Epoch 69/300\n",
      "50000/50000 [==============================] - 123s 2ms/step - loss: 0.4367 - acc: 0.7836 - val_loss: 0.4664 - val_acc: 0.7678\n",
      "Epoch 70/300\n",
      "50000/50000 [==============================] - 123s 2ms/step - loss: 0.4365 - acc: 0.7830 - val_loss: 0.4662 - val_acc: 0.7681\n",
      "Epoch 71/300\n",
      "50000/50000 [==============================] - 122s 2ms/step - loss: 0.4347 - acc: 0.7841 - val_loss: 0.4660 - val_acc: 0.7680\n",
      "Epoch 72/300\n",
      "50000/50000 [==============================] - 122s 2ms/step - loss: 0.4335 - acc: 0.7848 - val_loss: 0.4656 - val_acc: 0.7681\n",
      "Epoch 73/300\n",
      "50000/50000 [==============================] - 122s 2ms/step - loss: 0.4326 - acc: 0.7857 - val_loss: 0.4656 - val_acc: 0.7688\n",
      "Epoch 74/300\n",
      "50000/50000 [==============================] - 122s 2ms/step - loss: 0.4327 - acc: 0.7860 - val_loss: 0.4655 - val_acc: 0.7686\n",
      "Epoch 75/300\n",
      "50000/50000 [==============================] - 122s 2ms/step - loss: 0.4310 - acc: 0.7860 - val_loss: 0.4655 - val_acc: 0.7682\n",
      "Epoch 76/300\n",
      "50000/50000 [==============================] - 122s 2ms/step - loss: 0.4301 - acc: 0.7867 - val_loss: 0.4653 - val_acc: 0.7685\n",
      "Epoch 77/300\n",
      "50000/50000 [==============================] - 122s 2ms/step - loss: 0.4287 - acc: 0.7875 - val_loss: 0.4648 - val_acc: 0.7685\n",
      "Epoch 78/300\n",
      "50000/50000 [==============================] - 122s 2ms/step - loss: 0.4284 - acc: 0.7877 - val_loss: 0.4649 - val_acc: 0.7690\n",
      "Epoch 79/300\n",
      "50000/50000 [==============================] - 123s 2ms/step - loss: 0.4265 - acc: 0.7889 - val_loss: 0.4646 - val_acc: 0.7690\n",
      "Epoch 80/300\n",
      "50000/50000 [==============================] - 123s 2ms/step - loss: 0.4270 - acc: 0.7897 - val_loss: 0.4647 - val_acc: 0.7684\n",
      "Epoch 81/300\n",
      "50000/50000 [==============================] - 122s 2ms/step - loss: 0.4247 - acc: 0.7897 - val_loss: 0.4650 - val_acc: 0.7690\n",
      "Epoch 82/300\n",
      "50000/50000 [==============================] - 123s 2ms/step - loss: 0.4241 - acc: 0.7905 - val_loss: 0.4649 - val_acc: 0.7684\n",
      "Epoch 83/300\n",
      "50000/50000 [==============================] - 122s 2ms/step - loss: 0.4229 - acc: 0.7907 - val_loss: 0.4645 - val_acc: 0.7689\n",
      "Epoch 84/300\n",
      "50000/50000 [==============================] - 123s 2ms/step - loss: 0.4213 - acc: 0.7919 - val_loss: 0.4646 - val_acc: 0.7690\n",
      "Epoch 85/300\n",
      "50000/50000 [==============================] - 123s 2ms/step - loss: 0.4214 - acc: 0.7917 - val_loss: 0.4644 - val_acc: 0.7696\n",
      "Epoch 86/300\n",
      "50000/50000 [==============================] - 122s 2ms/step - loss: 0.4199 - acc: 0.7922 - val_loss: 0.4643 - val_acc: 0.7696\n",
      "Epoch 87/300\n",
      "50000/50000 [==============================] - 122s 2ms/step - loss: 0.4181 - acc: 0.7936 - val_loss: 0.4644 - val_acc: 0.7691\n",
      "Epoch 88/300\n",
      "50000/50000 [==============================] - 122s 2ms/step - loss: 0.4191 - acc: 0.7927 - val_loss: 0.4642 - val_acc: 0.7696\n",
      "Epoch 89/300\n",
      "50000/50000 [==============================] - 122s 2ms/step - loss: 0.4170 - acc: 0.7943 - val_loss: 0.4639 - val_acc: 0.7699\n",
      "Epoch 90/300\n",
      "50000/50000 [==============================] - 122s 2ms/step - loss: 0.4159 - acc: 0.7949 - val_loss: 0.4638 - val_acc: 0.7701\n",
      "Epoch 91/300\n",
      "50000/50000 [==============================] - 122s 2ms/step - loss: 0.4154 - acc: 0.7951 - val_loss: 0.4642 - val_acc: 0.7692\n",
      "Epoch 92/300\n",
      "50000/50000 [==============================] - 123s 2ms/step - loss: 0.4141 - acc: 0.7959 - val_loss: 0.4639 - val_acc: 0.7696\n",
      "Epoch 93/300\n",
      "50000/50000 [==============================] - 122s 2ms/step - loss: 0.4141 - acc: 0.7950 - val_loss: 0.4638 - val_acc: 0.7696\n",
      "Epoch 94/300\n",
      "50000/50000 [==============================] - 122s 2ms/step - loss: 0.4118 - acc: 0.7966 - val_loss: 0.4639 - val_acc: 0.7697\n",
      "Epoch 95/300\n",
      "50000/50000 [==============================] - 122s 2ms/step - loss: 0.4103 - acc: 0.7974 - val_loss: 0.4640 - val_acc: 0.7691\n",
      "Epoch 96/300\n",
      "50000/50000 [==============================] - 123s 2ms/step - loss: 0.4107 - acc: 0.7970 - val_loss: 0.4642 - val_acc: 0.7696\n",
      "Epoch 97/300\n",
      "50000/50000 [==============================] - 123s 2ms/step - loss: 0.4084 - acc: 0.7984 - val_loss: 0.4640 - val_acc: 0.7697\n",
      "Epoch 98/300\n",
      "50000/50000 [==============================] - 123s 2ms/step - loss: 0.4074 - acc: 0.7987 - val_loss: 0.4639 - val_acc: 0.7690\n",
      "Epoch 99/300\n",
      "50000/50000 [==============================] - 123s 2ms/step - loss: 0.4057 - acc: 0.8006 - val_loss: 0.4641 - val_acc: 0.7691\n",
      "Epoch 100/300\n",
      "50000/50000 [==============================] - 123s 2ms/step - loss: 0.4056 - acc: 0.8002 - val_loss: 0.4639 - val_acc: 0.7698\n"
     ]
    }
   ],
   "source": [
    "from keras.callbacks import ModelCheckpoint, EarlyStopping, History\n",
    "\n",
    "checkpointer = ModelCheckpoint(filepath='data/saved_models/weights_finetune_resnet50.hdf5', save_best_only=True)\n",
    "checkimprovement = EarlyStopping(monitor='val_loss', min_delta=0, patience=10)\n",
    "fit = History()\n",
    "\n",
    "fit = model.fit(train_tensors, train_targets[:nb_train], validation_data=(valid_tensors, valid_targets[:nb_valid]), \n",
    "                epochs=300, batch_size=64, callbacks=[checkpointer,checkimprovement,fit])"
   ]
  },
  {
   "cell_type": "code",
   "execution_count": 10,
   "metadata": {},
   "outputs": [
    {
     "data": {
      "image/png": "[encoded data removed]",
      "text/plain": [
       "<matplotlib.figure.Figure at 0x7f6fb59c0c18>"
      ]
     },
     "metadata": {},
     "output_type": "display_data"
    }
   ],
   "source": [
    "history(fit)"
   ]
  },
  {
   "cell_type": "code",
   "execution_count": 11,
   "metadata": {
    "collapsed": true
   },
   "outputs": [],
   "source": [
    "model.load_weights('data/saved_models/weights_finetune_resnet50.hdf5')"
   ]
  },
  {
   "cell_type": "code",
   "execution_count": 12,
   "metadata": {
    "collapsed": true
   },
   "outputs": [],
   "source": [
    "predictions = (model.predict(test_tensors) >= 0.5).astype(int)"
   ]
  },
  {
   "cell_type": "code",
   "execution_count": 13,
   "metadata": {},
   "outputs": [
    {
     "name": "stdout",
     "output_type": "stream",
     "text": [
      "F1 score: 0.78466\n"
     ]
    }
   ],
   "source": [
    "model_score = f1_score(test_targets[:nb_test], predictions)\n",
    "print('F1 score: %.5f' % model_score)"
   ]
  }
 ],
 "metadata": {
  "kernelspec": {
   "display_name": "deeplearning",
   "language": "python",
   "name": "deeplearning"
  },
  "language_info": {
   "codemirror_mode": {
    "name": "ipython",
    "version": 3
   },
   "file_extension": ".py",
   "mimetype": "text/x-python",
   "name": "python",
   "nbconvert_exporter": "python",
   "pygments_lexer": "ipython3",
   "version": "3.5.3"
  }
 },
 "nbformat": 4,
 "nbformat_minor": 2
}
