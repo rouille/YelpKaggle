{
 "cells": [
  {
   "cell_type": "markdown",
   "metadata": {},
   "source": [
    "# Model for Yelp Restaurant Photo Classification competition\n",
    "## Import Libraries and Datasets"
   ]
  },
  {
   "cell_type": "code",
   "execution_count": 1,
   "metadata": {
    "collapsed": false
   },
   "outputs": [
    {
     "name": "stderr",
     "output_type": "stream",
     "text": [
      "Using TensorFlow backend.\n"
     ]
    },
    {
     "name": "stdout",
     "output_type": "stream",
     "text": [
      "There are 234842 training images\n",
      "There are 237152 test images\n"
     ]
    }
   ],
   "source": [
    "import numpy as np\n",
    "import pandas as pd\n",
    "import matplotlib.pyplot as plt\n",
    "from preprocess import *\n",
    "\n",
    "%matplotlib inline\n",
    "\n",
    "# Business id to labels\n",
    "biz2labels = pd.read_csv('data/train.csv', header = 0, names = ['business','labels']).fillna('')\n",
    "\n",
    "# Photo id to business id for the training dataset\n",
    "photo2biz_train = pd.read_csv('data/train_photo_to_biz_ids.csv', header = 0, names = ['photo','business'])\n",
    "\n",
    "# Photo id to business id for the test dataset\n",
    "photo2biz_test = pd.read_csv('data/test_photo_to_biz.csv', header = 0, names = ['photo','business'])\n",
    "\n",
    "# Get list of images\n",
    "train_files, train_ids = path_to_images('data/train_photos')\n",
    "test_files, test_ids = path_to_images('data/test_photos')\n",
    "\n",
    "print('There are %d training images' % len(train_ids))\n",
    "print('There are %d test images' % len(test_ids))"
   ]
  },
  {
   "cell_type": "markdown",
   "metadata": {},
   "source": [
    "## Extract Labels for Each Photo in Training Dataset"
   ]
  },
  {
   "cell_type": "code",
   "execution_count": 2,
   "metadata": {
    "collapsed": false
   },
   "outputs": [
    {
     "data": {
      "text/html": [
       "<div>\n",
       "<table border=\"1\" class=\"dataframe\">\n",
       "  <thead>\n",
       "    <tr style=\"text-align: right;\">\n",
       "      <th></th>\n",
       "      <th>labels</th>\n",
       "    </tr>\n",
       "    <tr>\n",
       "      <th>business</th>\n",
       "      <th></th>\n",
       "    </tr>\n",
       "  </thead>\n",
       "  <tbody>\n",
       "    <tr>\n",
       "      <th>1000</th>\n",
       "      <td>(1, 2, 3, 4, 5, 6, 7)</td>\n",
       "    </tr>\n",
       "    <tr>\n",
       "      <th>1001</th>\n",
       "      <td>(0, 1, 6, 8)</td>\n",
       "    </tr>\n",
       "    <tr>\n",
       "      <th>100</th>\n",
       "      <td>(1, 2, 4, 5, 6, 7)</td>\n",
       "    </tr>\n",
       "    <tr>\n",
       "      <th>1006</th>\n",
       "      <td>(1, 2, 4, 5, 6)</td>\n",
       "    </tr>\n",
       "    <tr>\n",
       "      <th>1010</th>\n",
       "      <td>(0, 6, 8)</td>\n",
       "    </tr>\n",
       "    <tr>\n",
       "      <th>101</th>\n",
       "      <td>(1, 2, 3, 4, 5, 6)</td>\n",
       "    </tr>\n",
       "    <tr>\n",
       "      <th>1011</th>\n",
       "      <td>(2, 3, 5, 6)</td>\n",
       "    </tr>\n",
       "    <tr>\n",
       "      <th>1012</th>\n",
       "      <td>(1, 2, 3, 5, 6)</td>\n",
       "    </tr>\n",
       "    <tr>\n",
       "      <th>1014</th>\n",
       "      <td>(1, 2, 4, 5, 6)</td>\n",
       "    </tr>\n",
       "    <tr>\n",
       "      <th>1015</th>\n",
       "      <td>(1, 5, 6, 7)</td>\n",
       "    </tr>\n",
       "  </tbody>\n",
       "</table>\n",
       "</div>"
      ],
      "text/plain": [
       "                         labels\n",
       "business                       \n",
       "1000      (1, 2, 3, 4, 5, 6, 7)\n",
       "1001               (0, 1, 6, 8)\n",
       "100          (1, 2, 4, 5, 6, 7)\n",
       "1006            (1, 2, 4, 5, 6)\n",
       "1010                  (0, 6, 8)\n",
       "101          (1, 2, 3, 4, 5, 6)\n",
       "1011               (2, 3, 5, 6)\n",
       "1012            (1, 2, 3, 5, 6)\n",
       "1014            (1, 2, 4, 5, 6)\n",
       "1015               (1, 5, 6, 7)"
      ]
     },
     "execution_count": 2,
     "metadata": {},
     "output_type": "execute_result"
    }
   ],
   "source": [
    "biz2labels['labels'] = biz2labels['labels'].apply(lambda x: tuple(sorted(int(t) for t in x.split())))\n",
    "biz2labels.set_index('business', inplace=True)\n",
    "biz2labels.head(n=10)"
   ]
  },
  {
   "cell_type": "code",
   "execution_count": 3,
   "metadata": {
    "collapsed": false
   },
   "outputs": [
    {
     "name": "stdout",
     "output_type": "stream",
     "text": [
      "Number of rows: 234842 - Number of columns: 9\n"
     ]
    }
   ],
   "source": [
    "train_targets = np.vstack(biz2labels.loc[photo2biz_train['business']]['labels'].apply(encode_label))\n",
    "print('Number of rows: %d - Number of columns: %d' % (train_targets.shape[0], train_targets.shape[1]))"
   ]
  },
  {
   "cell_type": "markdown",
   "metadata": {},
   "source": [
    "## Split Training Dataset into Training and Validation Datasets"
   ]
  },
  {
   "cell_type": "code",
   "execution_count": 4,
   "metadata": {
    "collapsed": false
   },
   "outputs": [
    {
     "name": "stdout",
     "output_type": "stream",
     "text": [
      "There are 157344 images in the training dataset\n",
      "There are 77498 images in the validation dataset\n"
     ]
    }
   ],
   "source": [
    "from sklearn.model_selection import train_test_split\n",
    "\n",
    "seed = 7 \n",
    "X_train, X_val, Y_train, Y_val = train_test_split(train_files, train_targets, test_size=0.33, random_state=seed)\n",
    "\n",
    "print('There are %d images in the training dataset' % len(X_train))\n",
    "print('There are %d images in the validation dataset' % len(X_val))"
   ]
  },
  {
   "cell_type": "code",
   "execution_count": null,
   "metadata": {
    "collapsed": false
   },
   "outputs": [],
   "source": []
  }
 ],
 "metadata": {
  "kernelspec": {
   "display_name": "Python 3",
   "language": "python",
   "name": "python3"
  },
  "language_info": {
   "codemirror_mode": {
    "name": "ipython",
    "version": 3
   },
   "file_extension": ".py",
   "mimetype": "text/x-python",
   "name": "python",
   "nbconvert_exporter": "python",
   "pygments_lexer": "ipython3",
   "version": "3.5.3"
  }
 },
 "nbformat": 4,
 "nbformat_minor": 2
}
