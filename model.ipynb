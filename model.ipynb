{
 "cells": [
  {
   "cell_type": "markdown",
   "metadata": {},
   "source": [
    "# Model for Yelp Restaurant Photo Classification competition\n",
    "## Import Libraries and Datasets"
   ]
  },
  {
   "cell_type": "code",
   "execution_count": null,
   "metadata": {
    "collapsed": false
   },
   "outputs": [],
   "source": [
    "import numpy as np\n",
    "import pandas as pd\n",
    "import matplotlib.pyplot as plt\n",
    "from preprocess import *\n",
    "\n",
    "%matplotlib inline\n",
    "\n",
    "# Business id to labels\n",
    "biz2labels = pd.read_csv('data/train.csv', header = 0, names = ['business','labels']).fillna('')#.dropna()\n",
    "\n",
    "# Photo id to business id for the training dataset\n",
    "photo2biz_train = pd.read_csv('data/train_photo_to_biz_ids.csv', header = 0, names = ['photo','business'])\n",
    "\n",
    "# Photo id to business id for the test dataset\n",
    "photo2biz_test = pd.read_csv('data/test_photo_to_biz.csv', header = 0, names = ['photo','business'])\n",
    "\n",
    "# Get list of images\n",
    "#train_files, train_ids = path_to_images('data/train_photos')\n",
    "#test_files, test_ids = path_to_images('data/test_photos')\n",
    "\n",
    "#print('There are %d training images' % len(train_ids))\n",
    "#print('There are %d test images' % len(test_ids))"
   ]
  },
  {
   "cell_type": "markdown",
   "metadata": {},
   "source": [
    "## Extract Labels for Each Photo in Training Dataset"
   ]
  },
  {
   "cell_type": "code",
   "execution_count": null,
   "metadata": {
    "collapsed": false
   },
   "outputs": [],
   "source": [
    "biz2labels['labels'] = biz2labels['labels'].apply(lambda x: tuple(sorted(int(t) for t in x.split())))\n",
    "biz2labels.set_index('business', inplace=True)\n",
    "biz2labels.head(n=10)"
   ]
  },
  {
   "cell_type": "code",
   "execution_count": null,
   "metadata": {
    "collapsed": false
   },
   "outputs": [],
   "source": [
    "train_targets = np.vstack(biz2labels.loc[photo2biz_train['business']]['labels'].apply(encode_label))\n",
    "print('Number of rows: %d - Number of columns: %d' % (train_targets.shape[0], train_targets.shape[1]))"
   ]
  },
  {
   "cell_type": "markdown",
   "metadata": {},
   "source": [
    "## Create a Validation Dataset"
   ]
  },
  {
   "cell_type": "code",
   "execution_count": null,
   "metadata": {
    "collapsed": true
   },
   "outputs": [],
   "source": []
  }
 ],
 "metadata": {
  "kernelspec": {
   "display_name": "Python 3",
   "language": "python",
   "name": "python3"
  },
  "language_info": {
   "codemirror_mode": {
    "name": "ipython",
    "version": 3
   },
   "file_extension": ".py",
   "mimetype": "text/x-python",
   "name": "python",
   "nbconvert_exporter": "python",
   "pygments_lexer": "ipython3",
   "version": "3.5.3"
  }
 },
 "nbformat": 4,
 "nbformat_minor": 2
}
