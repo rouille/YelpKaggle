{
 "cells": [
  {
   "cell_type": "markdown",
   "metadata": {},
   "source": [
    "# Fine-tuning ResNet50\n",
    "\n",
    "---\n",
    "\n",
    "## 1. Load Tensors and Targets\n",
    "\n",
    "The training, validation and test files and associated targets are loaded."
   ]
  },
  {
   "cell_type": "code",
   "execution_count": 2,
   "metadata": {
    "scrolled": true
   },
   "outputs": [
    {
     "name": "stdout",
     "output_type": "stream",
     "text": [
      "There are 176131 images in the training dataset\n",
      "There are 29355 images in the validation dataset\n",
      "There are 29356 images in the test dataset\n"
     ]
    }
   ],
   "source": [
    "import numpy as np\n",
    "from common import *\n",
    "\n",
    "train_ids, train_targets = load_dataset('data/preprocess/train.npz')\n",
    "valid_ids, valid_targets = load_dataset('data/preprocess/valid.npz')\n",
    "test_ids, test_targets = load_dataset('data/preprocess/test.npz')\n",
    "\n",
    "train_files = np.array(['data/train_photos/' + str(i) + '.jpg' for i in train_ids])\n",
    "valid_files = np.array(['data/train_photos/' + str(i) + '.jpg' for i in valid_ids])\n",
    "test_files = np.array(['data/train_photos/' + str(i) + '.jpg' for i in test_ids])\n",
    "\n",
    "del train_ids, valid_ids, test_ids\n",
    "\n",
    "print('There are %d images in the training dataset' % len(train_files))\n",
    "print('There are %d images in the validation dataset' % len(valid_files))\n",
    "print('There are %d images in the test dataset' % len(test_files))"
   ]
  },
  {
   "cell_type": "markdown",
   "metadata": {},
   "source": [
    "A fraction of the training (50000), validation (5000) and test (5000) datasets are loaded into tensors."
   ]
  },
  {
   "cell_type": "code",
   "execution_count": 3,
   "metadata": {},
   "outputs": [
    {
     "name": "stderr",
     "output_type": "stream",
     "text": [
      "100%|██████████| 50000/50000 [03:28<00:00, 239.89it/s]\n",
      "100%|██████████| 5000/5000 [00:21<00:00, 232.00it/s]\n",
      "100%|██████████| 5000/5000 [00:21<00:00, 234.08it/s]\n"
     ]
    }
   ],
   "source": [
    "from keras.applications.resnet50 import preprocess_input\n",
    "\n",
    "nb_train, nb_valid, nb_test = (50000,5000,5000)\n",
    "\n",
    "train_tensors = preprocess_input(paths_to_tensor(train_files[:nb_train]))\n",
    "del train_files\n",
    "valid_tensors = preprocess_input(paths_to_tensor(valid_files[:nb_valid]))\n",
    "del valid_files\n",
    "test_tensors = preprocess_input(paths_to_tensor(test_files[:nb_test]))\n",
    "del test_files"
   ]
  },
  {
   "cell_type": "markdown",
   "metadata": {},
   "source": [
    "## 2. Import the ResNet50 Deep Learning Model\n",
    "\n",
    "The pre-trained ResNet50 deep learning network is loaded. Note that the top layer is not included. The name of the layers composing the model are printed out to get an idea its architecture. This will be very informative later in this notebook when the model will be fine-tuned."
   ]
  },
  {
   "cell_type": "code",
   "execution_count": 4,
   "metadata": {},
   "outputs": [
    {
     "name": "stdout",
     "output_type": "stream",
     "text": [
      "0 input_1\n",
      "1 conv1\n",
      "2 bn_conv1\n",
      "3 activation_1\n",
      "4 max_pooling2d_1\n",
      "5 res2a_branch2a\n",
      "6 bn2a_branch2a\n",
      "7 activation_2\n",
      "8 res2a_branch2b\n",
      "9 bn2a_branch2b\n",
      "10 activation_3\n",
      "11 res2a_branch2c\n",
      "12 res2a_branch1\n",
      "13 bn2a_branch2c\n",
      "14 bn2a_branch1\n",
      "15 add_1\n",
      "16 activation_4\n",
      "17 res2b_branch2a\n",
      "18 bn2b_branch2a\n",
      "19 activation_5\n",
      "20 res2b_branch2b\n",
      "21 bn2b_branch2b\n",
      "22 activation_6\n",
      "23 res2b_branch2c\n",
      "24 bn2b_branch2c\n",
      "25 add_2\n",
      "26 activation_7\n",
      "27 res2c_branch2a\n",
      "28 bn2c_branch2a\n",
      "29 activation_8\n",
      "30 res2c_branch2b\n",
      "31 bn2c_branch2b\n",
      "32 activation_9\n",
      "33 res2c_branch2c\n",
      "34 bn2c_branch2c\n",
      "35 add_3\n",
      "36 activation_10\n",
      "37 res3a_branch2a\n",
      "38 bn3a_branch2a\n",
      "39 activation_11\n",
      "40 res3a_branch2b\n",
      "41 bn3a_branch2b\n",
      "42 activation_12\n",
      "43 res3a_branch2c\n",
      "44 res3a_branch1\n",
      "45 bn3a_branch2c\n",
      "46 bn3a_branch1\n",
      "47 add_4\n",
      "48 activation_13\n",
      "49 res3b_branch2a\n",
      "50 bn3b_branch2a\n",
      "51 activation_14\n",
      "52 res3b_branch2b\n",
      "53 bn3b_branch2b\n",
      "54 activation_15\n",
      "55 res3b_branch2c\n",
      "56 bn3b_branch2c\n",
      "57 add_5\n",
      "58 activation_16\n",
      "59 res3c_branch2a\n",
      "60 bn3c_branch2a\n",
      "61 activation_17\n",
      "62 res3c_branch2b\n",
      "63 bn3c_branch2b\n",
      "64 activation_18\n",
      "65 res3c_branch2c\n",
      "66 bn3c_branch2c\n",
      "67 add_6\n",
      "68 activation_19\n",
      "69 res3d_branch2a\n",
      "70 bn3d_branch2a\n",
      "71 activation_20\n",
      "72 res3d_branch2b\n",
      "73 bn3d_branch2b\n",
      "74 activation_21\n",
      "75 res3d_branch2c\n",
      "76 bn3d_branch2c\n",
      "77 add_7\n",
      "78 activation_22\n",
      "79 res4a_branch2a\n",
      "80 bn4a_branch2a\n",
      "81 activation_23\n",
      "82 res4a_branch2b\n",
      "83 bn4a_branch2b\n",
      "84 activation_24\n",
      "85 res4a_branch2c\n",
      "86 res4a_branch1\n",
      "87 bn4a_branch2c\n",
      "88 bn4a_branch1\n",
      "89 add_8\n",
      "90 activation_25\n",
      "91 res4b_branch2a\n",
      "92 bn4b_branch2a\n",
      "93 activation_26\n",
      "94 res4b_branch2b\n",
      "95 bn4b_branch2b\n",
      "96 activation_27\n",
      "97 res4b_branch2c\n",
      "98 bn4b_branch2c\n",
      "99 add_9\n",
      "100 activation_28\n",
      "101 res4c_branch2a\n",
      "102 bn4c_branch2a\n",
      "103 activation_29\n",
      "104 res4c_branch2b\n",
      "105 bn4c_branch2b\n",
      "106 activation_30\n",
      "107 res4c_branch2c\n",
      "108 bn4c_branch2c\n",
      "109 add_10\n",
      "110 activation_31\n",
      "111 res4d_branch2a\n",
      "112 bn4d_branch2a\n",
      "113 activation_32\n",
      "114 res4d_branch2b\n",
      "115 bn4d_branch2b\n",
      "116 activation_33\n",
      "117 res4d_branch2c\n",
      "118 bn4d_branch2c\n",
      "119 add_11\n",
      "120 activation_34\n",
      "121 res4e_branch2a\n",
      "122 bn4e_branch2a\n",
      "123 activation_35\n",
      "124 res4e_branch2b\n",
      "125 bn4e_branch2b\n",
      "126 activation_36\n",
      "127 res4e_branch2c\n",
      "128 bn4e_branch2c\n",
      "129 add_12\n",
      "130 activation_37\n",
      "131 res4f_branch2a\n",
      "132 bn4f_branch2a\n",
      "133 activation_38\n",
      "134 res4f_branch2b\n",
      "135 bn4f_branch2b\n",
      "136 activation_39\n",
      "137 res4f_branch2c\n",
      "138 bn4f_branch2c\n",
      "139 add_13\n",
      "140 activation_40\n",
      "141 res5a_branch2a\n",
      "142 bn5a_branch2a\n",
      "143 activation_41\n",
      "144 res5a_branch2b\n",
      "145 bn5a_branch2b\n",
      "146 activation_42\n",
      "147 res5a_branch2c\n",
      "148 res5a_branch1\n",
      "149 bn5a_branch2c\n",
      "150 bn5a_branch1\n",
      "151 add_14\n",
      "152 activation_43\n",
      "153 res5b_branch2a\n",
      "154 bn5b_branch2a\n",
      "155 activation_44\n",
      "156 res5b_branch2b\n",
      "157 bn5b_branch2b\n",
      "158 activation_45\n",
      "159 res5b_branch2c\n",
      "160 bn5b_branch2c\n",
      "161 add_15\n",
      "162 activation_46\n",
      "163 res5c_branch2a\n",
      "164 bn5c_branch2a\n",
      "165 activation_47\n",
      "166 res5c_branch2b\n",
      "167 bn5c_branch2b\n",
      "168 activation_48\n",
      "169 res5c_branch2c\n",
      "170 bn5c_branch2c\n",
      "171 add_16\n",
      "172 activation_49\n",
      "173 avg_pool\n"
     ]
    }
   ],
   "source": [
    "from keras.applications.resnet50 import ResNet50\n",
    "\n",
    "base_model = ResNet50(weights='imagenet', include_top=False)\n",
    "\n",
    "for i, layer in enumerate(base_model.layers): print(i, layer.name)"
   ]
  },
  {
   "cell_type": "code",
   "execution_count": 5,
   "metadata": {
    "collapsed": true
   },
   "outputs": [],
   "source": [
    "for layer in base_model.layers: layer.trainable = False"
   ]
  },
  {
   "cell_type": "markdown",
   "metadata": {},
   "source": [
    "## 3. Add New Layers\n",
    "\n",
    "A simple CNN is built on top of ResNet50. It is made of a global average pooling layer, dropout layers and fully connected layers all equipped with a `relu` activation function. The top layer of this CNN is another fully connected layer with 9 nodes, i.e., the number of labels, and uses a `sigmoid` activation function to output probabilities. The dropout layers are used to prevent over-fitting (learning less is learning better).\n",
    "\n",
    "The whole model is compiled and trained for a few epochs. Note that only the added CNN is trainable and that all the ResNet50 layers are frozen in the cell above. This is a first pass performed to initialize the weights of the CNN. "
   ]
  },
  {
   "cell_type": "code",
   "execution_count": 6,
   "metadata": {},
   "outputs": [
    {
     "name": "stdout",
     "output_type": "stream",
     "text": [
      "Train on 50000 samples, validate on 5000 samples\n",
      "Epoch 1/5\n",
      "50000/50000 [==============================] - 111s 2ms/step - loss: 0.5191 - acc: 0.7318 - val_loss: 0.5372 - val_acc: 0.7372\n",
      "Epoch 2/5\n",
      "50000/50000 [==============================] - 108s 2ms/step - loss: 0.4923 - acc: 0.7504 - val_loss: 0.5083 - val_acc: 0.7476\n",
      "Epoch 3/5\n",
      "50000/50000 [==============================] - 108s 2ms/step - loss: 0.4815 - acc: 0.7588 - val_loss: 0.5051 - val_acc: 0.7504\n",
      "Epoch 4/5\n",
      "50000/50000 [==============================] - 108s 2ms/step - loss: 0.4720 - acc: 0.7653 - val_loss: 0.5029 - val_acc: 0.7482\n",
      "Epoch 5/5\n",
      "50000/50000 [==============================] - 108s 2ms/step - loss: 0.4653 - acc: 0.7694 - val_loss: 0.4959 - val_acc: 0.7526\n"
     ]
    },
    {
     "data": {
      "text/plain": [
       "<keras.callbacks.History at 0x7fe22cd506a0>"
      ]
     },
     "execution_count": 6,
     "metadata": {},
     "output_type": "execute_result"
    }
   ],
   "source": [
    "from keras.layers import Dropout, GlobalAveragePooling2D, Dense, BatchNormalization, Activation\n",
    "from keras.models import Model\n",
    "\n",
    "addon = base_model.output\n",
    "\n",
    "addon = Dropout(0.4)(addon)\n",
    "addon = GlobalAveragePooling2D()(addon)\n",
    "addon = Dense(1024)(addon)\n",
    "addon = BatchNormalization()(addon)\n",
    "addon = Activation('relu')(addon)\n",
    "addon = Dropout(0.2)(addon)\n",
    "addon = Dense(512)(addon)\n",
    "addon = BatchNormalization()(addon)\n",
    "addon = Activation('relu')(addon)\n",
    "addon = Dropout(0.2)(addon)\n",
    "addon = Dense(256)(addon)\n",
    "addon = BatchNormalization()(addon)\n",
    "addon = Activation('relu')(addon)\n",
    "\n",
    "top = Dense(9, activation='sigmoid')(addon)\n",
    "\n",
    "model = Model(inputs=base_model.input, outputs=top)\n",
    "\n",
    "model.compile(optimizer='rmsprop', loss='binary_crossentropy', metrics=['accuracy'])\n",
    "\n",
    "model.fit(train_tensors, train_targets[:nb_train], \n",
    "          validation_data=(valid_tensors,valid_targets[:nb_valid]),\n",
    "          epochs=5, batch_size=64, verbose=1)"
   ]
  },
  {
   "cell_type": "markdown",
   "metadata": {},
   "source": [
    "## 4. Fine-tune Model\n",
    "\n",
    "The last 6 blocks of the ResNet50 are now set to trainable. The whole model is then recompiled for these modifications to take effect."
   ]
  },
  {
   "cell_type": "code",
   "execution_count": 7,
   "metadata": {
    "collapsed": true
   },
   "outputs": [],
   "source": [
    "for layer in model.layers[:119]:\n",
    "   layer.trainable = False\n",
    "for layer in model.layers[119:]:\n",
    "   layer.trainable = True"
   ]
  },
  {
   "cell_type": "markdown",
   "metadata": {},
   "source": [
    "In order to properly fine-tune the model, a SGD optimizer with a low learning rate is used."
   ]
  },
  {
   "cell_type": "code",
   "execution_count": 8,
   "metadata": {
    "collapsed": true
   },
   "outputs": [],
   "source": [
    "from keras.optimizers import SGD\n",
    "\n",
    "sgd = SGD(lr=0.0001, momentum=0.9, decay=1e-6, nesterov=True)\n",
    "model.compile(optimizer=sgd, loss='binary_crossentropy', metrics=['accuracy'])"
   ]
  },
  {
   "cell_type": "markdown",
   "metadata": {},
   "source": [
    "The whole model is trained and the validation data are used to control the minimization process. If the value of the loss function calculated on the validation data does not improve over ten successive epochs then the training is stopped. The wights of the best model are recorded in a file that will be loded once the training is completed. "
   ]
  },
  {
   "cell_type": "code",
   "execution_count": 9,
   "metadata": {
    "scrolled": false
   },
   "outputs": [
    {
     "name": "stdout",
     "output_type": "stream",
     "text": [
      "Train on 50000 samples, validate on 5000 samples\n",
      "Epoch 1/300\n",
      "50000/50000 [==============================] - 137s 3ms/step - loss: 0.4518 - acc: 0.7792 - val_loss: 0.4586 - val_acc: 0.7733\n",
      "Epoch 2/300\n",
      "50000/50000 [==============================] - 134s 3ms/step - loss: 0.4494 - acc: 0.7800 - val_loss: 0.4576 - val_acc: 0.7743\n",
      "Epoch 3/300\n",
      "50000/50000 [==============================] - 134s 3ms/step - loss: 0.4469 - acc: 0.7816 - val_loss: 0.4566 - val_acc: 0.7740\n",
      "Epoch 4/300\n",
      "50000/50000 [==============================] - 134s 3ms/step - loss: 0.4442 - acc: 0.7834 - val_loss: 0.4560 - val_acc: 0.7741\n",
      "Epoch 5/300\n",
      "50000/50000 [==============================] - 134s 3ms/step - loss: 0.4438 - acc: 0.7830 - val_loss: 0.4553 - val_acc: 0.7744\n",
      "Epoch 6/300\n",
      "50000/50000 [==============================] - 134s 3ms/step - loss: 0.4430 - acc: 0.7840 - val_loss: 0.4550 - val_acc: 0.7746\n",
      "Epoch 7/300\n",
      "50000/50000 [==============================] - 134s 3ms/step - loss: 0.4415 - acc: 0.7851 - val_loss: 0.4543 - val_acc: 0.7747\n",
      "Epoch 8/300\n",
      "50000/50000 [==============================] - 134s 3ms/step - loss: 0.4394 - acc: 0.7861 - val_loss: 0.4539 - val_acc: 0.7749\n",
      "Epoch 9/300\n",
      "50000/50000 [==============================] - 134s 3ms/step - loss: 0.4387 - acc: 0.7868 - val_loss: 0.4537 - val_acc: 0.7748\n",
      "Epoch 10/300\n",
      "50000/50000 [==============================] - 134s 3ms/step - loss: 0.4375 - acc: 0.7877 - val_loss: 0.4531 - val_acc: 0.7748\n",
      "Epoch 11/300\n",
      "50000/50000 [==============================] - 134s 3ms/step - loss: 0.4357 - acc: 0.7883 - val_loss: 0.4527 - val_acc: 0.7754\n",
      "Epoch 12/300\n",
      "50000/50000 [==============================] - 134s 3ms/step - loss: 0.4351 - acc: 0.7890 - val_loss: 0.4522 - val_acc: 0.7756\n",
      "Epoch 13/300\n",
      "50000/50000 [==============================] - 134s 3ms/step - loss: 0.4331 - acc: 0.7905 - val_loss: 0.4521 - val_acc: 0.7754\n",
      "Epoch 14/300\n",
      "50000/50000 [==============================] - 134s 3ms/step - loss: 0.4327 - acc: 0.7901 - val_loss: 0.4517 - val_acc: 0.7757\n",
      "Epoch 15/300\n",
      "50000/50000 [==============================] - 134s 3ms/step - loss: 0.4320 - acc: 0.7904 - val_loss: 0.4513 - val_acc: 0.7760\n",
      "Epoch 16/300\n",
      "50000/50000 [==============================] - 134s 3ms/step - loss: 0.4306 - acc: 0.7917 - val_loss: 0.4512 - val_acc: 0.7760\n",
      "Epoch 17/300\n",
      "50000/50000 [==============================] - 134s 3ms/step - loss: 0.4303 - acc: 0.7914 - val_loss: 0.4508 - val_acc: 0.7760\n",
      "Epoch 18/300\n",
      "50000/50000 [==============================] - 134s 3ms/step - loss: 0.4289 - acc: 0.7926 - val_loss: 0.4505 - val_acc: 0.7762\n",
      "Epoch 19/300\n",
      "50000/50000 [==============================] - 134s 3ms/step - loss: 0.4266 - acc: 0.7933 - val_loss: 0.4502 - val_acc: 0.7767\n",
      "Epoch 20/300\n",
      "50000/50000 [==============================] - 134s 3ms/step - loss: 0.4266 - acc: 0.7941 - val_loss: 0.4502 - val_acc: 0.7768\n",
      "Epoch 21/300\n",
      "50000/50000 [==============================] - 134s 3ms/step - loss: 0.4252 - acc: 0.7944 - val_loss: 0.4500 - val_acc: 0.7770\n",
      "Epoch 22/300\n",
      "50000/50000 [==============================] - 134s 3ms/step - loss: 0.4252 - acc: 0.7942 - val_loss: 0.4496 - val_acc: 0.7766\n",
      "Epoch 23/300\n",
      "50000/50000 [==============================] - 134s 3ms/step - loss: 0.4235 - acc: 0.7954 - val_loss: 0.4497 - val_acc: 0.7772\n",
      "Epoch 24/300\n",
      "50000/50000 [==============================] - 134s 3ms/step - loss: 0.4220 - acc: 0.7964 - val_loss: 0.4493 - val_acc: 0.7773\n",
      "Epoch 25/300\n",
      "50000/50000 [==============================] - 134s 3ms/step - loss: 0.4215 - acc: 0.7966 - val_loss: 0.4493 - val_acc: 0.7779\n",
      "Epoch 26/300\n",
      "50000/50000 [==============================] - 135s 3ms/step - loss: 0.4213 - acc: 0.7970 - val_loss: 0.4489 - val_acc: 0.7780\n",
      "Epoch 27/300\n",
      "50000/50000 [==============================] - 134s 3ms/step - loss: 0.4193 - acc: 0.7982 - val_loss: 0.4490 - val_acc: 0.7781\n",
      "Epoch 28/300\n",
      "50000/50000 [==============================] - 134s 3ms/step - loss: 0.4185 - acc: 0.7989 - val_loss: 0.4488 - val_acc: 0.7783\n",
      "Epoch 29/300\n",
      "50000/50000 [==============================] - 134s 3ms/step - loss: 0.4187 - acc: 0.7983 - val_loss: 0.4488 - val_acc: 0.7783\n",
      "Epoch 30/300\n",
      "50000/50000 [==============================] - 134s 3ms/step - loss: 0.4173 - acc: 0.7992 - val_loss: 0.4485 - val_acc: 0.7784\n",
      "Epoch 31/300\n",
      "50000/50000 [==============================] - 134s 3ms/step - loss: 0.4155 - acc: 0.7999 - val_loss: 0.4484 - val_acc: 0.7784\n",
      "Epoch 32/300\n",
      "50000/50000 [==============================] - 134s 3ms/step - loss: 0.4150 - acc: 0.8006 - val_loss: 0.4482 - val_acc: 0.7780\n",
      "Epoch 33/300\n",
      "50000/50000 [==============================] - 134s 3ms/step - loss: 0.4138 - acc: 0.8009 - val_loss: 0.4484 - val_acc: 0.7782\n",
      "Epoch 34/300\n",
      "50000/50000 [==============================] - 134s 3ms/step - loss: 0.4127 - acc: 0.8018 - val_loss: 0.4480 - val_acc: 0.7785\n",
      "Epoch 35/300\n",
      "50000/50000 [==============================] - 134s 3ms/step - loss: 0.4128 - acc: 0.8017 - val_loss: 0.4476 - val_acc: 0.7791\n",
      "Epoch 36/300\n",
      "50000/50000 [==============================] - 134s 3ms/step - loss: 0.4109 - acc: 0.8030 - val_loss: 0.4478 - val_acc: 0.7790\n",
      "Epoch 37/300\n",
      "50000/50000 [==============================] - 134s 3ms/step - loss: 0.4110 - acc: 0.8032 - val_loss: 0.4476 - val_acc: 0.7786\n",
      "Epoch 38/300\n",
      "50000/50000 [==============================] - 134s 3ms/step - loss: 0.4089 - acc: 0.8043 - val_loss: 0.4477 - val_acc: 0.7793\n",
      "Epoch 39/300\n",
      "50000/50000 [==============================] - 134s 3ms/step - loss: 0.4082 - acc: 0.8045 - val_loss: 0.4477 - val_acc: 0.7791\n",
      "Epoch 40/300\n",
      "50000/50000 [==============================] - 134s 3ms/step - loss: 0.4075 - acc: 0.8048 - val_loss: 0.4477 - val_acc: 0.7795\n",
      "Epoch 41/300\n",
      "50000/50000 [==============================] - 134s 3ms/step - loss: 0.4067 - acc: 0.8052 - val_loss: 0.4475 - val_acc: 0.7794\n",
      "Epoch 42/300\n",
      "50000/50000 [==============================] - 134s 3ms/step - loss: 0.4056 - acc: 0.8056 - val_loss: 0.4475 - val_acc: 0.7794\n",
      "Epoch 43/300\n",
      "50000/50000 [==============================] - 134s 3ms/step - loss: 0.4051 - acc: 0.8063 - val_loss: 0.4473 - val_acc: 0.7799\n",
      "Epoch 44/300\n",
      "50000/50000 [==============================] - 134s 3ms/step - loss: 0.4039 - acc: 0.8069 - val_loss: 0.4475 - val_acc: 0.7796\n",
      "Epoch 45/300\n",
      "50000/50000 [==============================] - 134s 3ms/step - loss: 0.4031 - acc: 0.8074 - val_loss: 0.4471 - val_acc: 0.7796\n",
      "Epoch 46/300\n",
      "50000/50000 [==============================] - 134s 3ms/step - loss: 0.4011 - acc: 0.8085 - val_loss: 0.4474 - val_acc: 0.7796\n",
      "Epoch 47/300\n",
      "50000/50000 [==============================] - 134s 3ms/step - loss: 0.4016 - acc: 0.8084 - val_loss: 0.4473 - val_acc: 0.7801\n",
      "Epoch 48/300\n",
      "50000/50000 [==============================] - 134s 3ms/step - loss: 0.4007 - acc: 0.8085 - val_loss: 0.4475 - val_acc: 0.7803\n",
      "Epoch 49/300\n",
      "50000/50000 [==============================] - 134s 3ms/step - loss: 0.3979 - acc: 0.8104 - val_loss: 0.4472 - val_acc: 0.7803\n",
      "Epoch 50/300\n",
      "50000/50000 [==============================] - 134s 3ms/step - loss: 0.3982 - acc: 0.8103 - val_loss: 0.4475 - val_acc: 0.7802\n",
      "Epoch 51/300\n",
      "50000/50000 [==============================] - 134s 3ms/step - loss: 0.3982 - acc: 0.8102 - val_loss: 0.4477 - val_acc: 0.7805\n",
      "Epoch 52/300\n",
      "50000/50000 [==============================] - 134s 3ms/step - loss: 0.3978 - acc: 0.8106 - val_loss: 0.4477 - val_acc: 0.7805\n",
      "Epoch 53/300\n",
      "50000/50000 [==============================] - 134s 3ms/step - loss: 0.3964 - acc: 0.8113 - val_loss: 0.4475 - val_acc: 0.7805\n",
      "Epoch 54/300\n",
      "50000/50000 [==============================] - 134s 3ms/step - loss: 0.3951 - acc: 0.8118 - val_loss: 0.4480 - val_acc: 0.7805\n",
      "Epoch 55/300\n",
      "50000/50000 [==============================] - 134s 3ms/step - loss: 0.3938 - acc: 0.8128 - val_loss: 0.4473 - val_acc: 0.7803\n"
     ]
    }
   ],
   "source": [
    "from keras.callbacks import ModelCheckpoint, EarlyStopping, History\n",
    "\n",
    "checkpointer = ModelCheckpoint(filepath='data/saved_models/weights_finetune_resnet50.hdf5', save_best_only=True)\n",
    "checkimprovement = EarlyStopping(monitor='val_loss', min_delta=0, patience=10)\n",
    "fit = History()\n",
    "\n",
    "fit = model.fit(train_tensors, train_targets[:nb_train], validation_data=(valid_tensors, valid_targets[:nb_valid]), \n",
    "                epochs=300, batch_size=64, callbacks=[checkpointer,checkimprovement,fit])"
   ]
  },
  {
   "cell_type": "markdown",
   "metadata": {},
   "source": [
    "The values of the loss function and accuracy metric across epochs are plotted below."
   ]
  },
  {
   "cell_type": "code",
   "execution_count": 10,
   "metadata": {},
   "outputs": [
    {
     "data": {
      "image/png": "[encoded data removed]",
      "text/plain": [
       "<matplotlib.figure.Figure at 0x7fe2358188d0>"
      ]
     },
     "metadata": {},
     "output_type": "display_data"
    }
   ],
   "source": [
    "history(fit)"
   ]
  },
  {
   "cell_type": "markdown",
   "metadata": {},
   "source": [
    "The best model, i.e, the one with the lowest value of the loss function calculated on the validation data, is loaded. Predictions are made on the test data and the $F_1$ score is then calculated."
   ]
  },
  {
   "cell_type": "code",
   "execution_count": 11,
   "metadata": {
    "collapsed": true
   },
   "outputs": [],
   "source": [
    "model.load_weights('data/saved_models/weights_finetune_resnet50.hdf5')"
   ]
  },
  {
   "cell_type": "code",
   "execution_count": 12,
   "metadata": {
    "collapsed": true
   },
   "outputs": [],
   "source": [
    "predictions = (model.predict(test_tensors) >= 0.5).astype(int)"
   ]
  },
  {
   "cell_type": "code",
   "execution_count": 13,
   "metadata": {},
   "outputs": [
    {
     "name": "stdout",
     "output_type": "stream",
     "text": [
      "F1 score: 0.78925\n"
     ]
    }
   ],
   "source": [
    "model_score = f1_score(test_targets[:nb_test], predictions)\n",
    "print('F1 score: %.5f' % model_score)"
   ]
  }
 ],
 "metadata": {
  "kernelspec": {
   "display_name": "deeplearning",
   "language": "python",
   "name": "deeplearning"
  },
  "language_info": {
   "codemirror_mode": {
    "name": "ipython",
    "version": 3
   },
   "file_extension": ".py",
   "mimetype": "text/x-python",
   "name": "python",
   "nbconvert_exporter": "python",
   "pygments_lexer": "ipython3",
   "version": "3.5.3"
  }
 },
 "nbformat": 4,
 "nbformat_minor": 2
}
