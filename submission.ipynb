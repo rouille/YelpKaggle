{
 "cells": [
  {
   "cell_type": "markdown",
   "metadata": {},
   "source": [
    "# Submission\n",
    "\n",
    "---\n",
    "\n",
    "## 1. Building business-photos correspondence\n",
    "We build a a hash table to easily access the photos of a given business. This information is enclosed in the `test_photo_to_biz.csv` file. "
   ]
  },
  {
   "cell_type": "code",
   "execution_count": 1,
   "metadata": {},
   "outputs": [
    {
     "name": "stderr",
     "output_type": "stream",
     "text": [
      "Using TensorFlow backend.\n"
     ]
    },
    {
     "data": {
      "text/html": [
       "<div>\n",
       "<table border=\"1\" class=\"dataframe\">\n",
       "  <thead>\n",
       "    <tr style=\"text-align: right;\">\n",
       "      <th></th>\n",
       "      <th>photo</th>\n",
       "      <th>business</th>\n",
       "    </tr>\n",
       "  </thead>\n",
       "  <tbody>\n",
       "    <tr>\n",
       "      <th>0</th>\n",
       "      <td>317818</td>\n",
       "      <td>003sg</td>\n",
       "    </tr>\n",
       "    <tr>\n",
       "      <th>1</th>\n",
       "      <td>30679</td>\n",
       "      <td>003sg</td>\n",
       "    </tr>\n",
       "    <tr>\n",
       "      <th>2</th>\n",
       "      <td>455084</td>\n",
       "      <td>003sg</td>\n",
       "    </tr>\n",
       "    <tr>\n",
       "      <th>3</th>\n",
       "      <td>371381</td>\n",
       "      <td>003sg</td>\n",
       "    </tr>\n",
       "    <tr>\n",
       "      <th>4</th>\n",
       "      <td>86224</td>\n",
       "      <td>003sg</td>\n",
       "    </tr>\n",
       "    <tr>\n",
       "      <th>5</th>\n",
       "      <td>36076</td>\n",
       "      <td>003sg</td>\n",
       "    </tr>\n",
       "    <tr>\n",
       "      <th>6</th>\n",
       "      <td>46999</td>\n",
       "      <td>003sg</td>\n",
       "    </tr>\n",
       "    <tr>\n",
       "      <th>7</th>\n",
       "      <td>74896</td>\n",
       "      <td>003sg</td>\n",
       "    </tr>\n",
       "    <tr>\n",
       "      <th>8</th>\n",
       "      <td>169399</td>\n",
       "      <td>003sg</td>\n",
       "    </tr>\n",
       "    <tr>\n",
       "      <th>9</th>\n",
       "      <td>110581</td>\n",
       "      <td>003sg</td>\n",
       "    </tr>\n",
       "  </tbody>\n",
       "</table>\n",
       "</div>"
      ],
      "text/plain": [
       "    photo business\n",
       "0  317818    003sg\n",
       "1   30679    003sg\n",
       "2  455084    003sg\n",
       "3  371381    003sg\n",
       "4   86224    003sg\n",
       "5   36076    003sg\n",
       "6   46999    003sg\n",
       "7   74896    003sg\n",
       "8  169399    003sg\n",
       "9  110581    003sg"
      ]
     },
     "execution_count": 1,
     "metadata": {},
     "output_type": "execute_result"
    }
   ],
   "source": [
    "import numpy as np\n",
    "import pandas as pd\n",
    "from common import *\n",
    "\n",
    "# Photo id to business id for the test dataset\n",
    "photo2biz = pd.read_csv('data/test_photo_to_biz.csv', header = 0, names = ['photo','business'])\n",
    "\n",
    "# First rows\n",
    "photo2biz.head(n=10)"
   ]
  },
  {
   "cell_type": "code",
   "execution_count": 2,
   "metadata": {},
   "outputs": [
    {
     "data": {
      "text/plain": [
       "business\n",
       "003sg    [317818, 30679, 455084, 371381, 86224, 36076, ...\n",
       "00er5    [220529, 239591, 398090, 315725, 444173, 35412...\n",
       "00kad    [96324, 333815, 101340, 398801, 465446, 123159...\n",
       "00mc6    [219849, 327514, 189070, 366342, 227137, 15566...\n",
       "00q7x    [207951, 44259, 25772, 256585, 375771, 284229,...\n",
       "00v0t    [98656, 289068, 356683, 356072, 384160, 257167...\n",
       "00y7p    [354534, 91842, 264321, 337598, 425924, 318190...\n",
       "019fg    [329682, 293765, 151022, 310278, 214887, 41965...\n",
       "019r1    [235703, 330900, 97541, 334820, 318846, 70608,...\n",
       "01i5j    [159653, 186559, 210259, 104371, 230924, 39826...\n",
       "Name: photo, dtype: object"
      ]
     },
     "execution_count": 2,
     "metadata": {},
     "output_type": "execute_result"
    }
   ],
   "source": [
    "biz2photos = photo2biz.groupby('business')['photo'].apply(list)\n",
    "\n",
    "biz2photos.head(n=10)"
   ]
  },
  {
   "cell_type": "code",
   "execution_count": 3,
   "metadata": {},
   "outputs": [
    {
     "name": "stdout",
     "output_type": "stream",
     "text": [
      "There are 10000 businesses in the test dataset.\n"
     ]
    }
   ],
   "source": [
    "biz2photos = biz2photos.to_dict()\n",
    "biz = list(biz2photos.keys())\n",
    "\n",
    "print('There are %d businesses in the test dataset.' % len(biz))"
   ]
  },
  {
   "cell_type": "code",
   "execution_count": null,
   "metadata": {
    "collapsed": true
   },
   "outputs": [],
   "source": []
  }
 ],
 "metadata": {
  "kernelspec": {
   "display_name": "deeplearning",
   "language": "python",
   "name": "deeplearning"
  },
  "language_info": {
   "codemirror_mode": {
    "name": "ipython",
    "version": 3
   },
   "file_extension": ".py",
   "mimetype": "text/x-python",
   "name": "python",
   "nbconvert_exporter": "python",
   "pygments_lexer": "ipython3",
   "version": "3.5.3"
  }
 },
 "nbformat": 4,
 "nbformat_minor": 2
}
