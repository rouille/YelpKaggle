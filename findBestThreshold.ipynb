{
 "cells": [
  {
   "cell_type": "markdown",
   "metadata": {},
   "source": [
    "# Threshold for $F_1$ score calculation\n",
    "---\n",
    "The optimal thresholds for converting the probabilities obtained after classification -- as returned by the sigmoid activation function -- to labels (0 are 1) is determined using the [Matthews correlation coefficient](https://en.wikipedia.org/wiki/Matthews_correlation_coefficient) (MCC). The MCC is a correlation coefficient between the observed and predicted binary classifications. It returns a value between −1 and +1. A coefficient of +1 indicates a perfect prediction, 0 no better than random prediction and −1 indicates total disagreement between prediction and observation. The MCC takes into account true and false positives and negatives.\n",
    "\n",
    "The training dataset is divided into equal sets and model developed in this [notebook](nn.ipynb) is used to make predictions. Then, for each set, the pedictions are grouped by business and the mean prediction is calculated for each label and thresholded. We investigate multiple values for the threshold ranging from 0.2 to 0.8 and determine for each label the threshold that maximize the MCC.\n",
    "\n",
    "\n",
    "## 1. Get Data\n",
    "\n",
    "### A. Tensors and Targets\n",
    "\n",
    "The ResNet50 bottleneck features along with the associated targets are loaded."
   ]
  },
  {
   "cell_type": "code",
   "execution_count": 1,
   "metadata": {},
   "outputs": [
    {
     "name": "stderr",
     "output_type": "stream",
     "text": [
      "Using TensorFlow backend.\n"
     ]
    },
    {
     "name": "stdout",
     "output_type": "stream",
     "text": [
      "Number of features: 176131\n"
     ]
    }
   ],
   "source": [
    "import numpy as np\n",
    "import matplotlib.pyplot as plt\n",
    "\n",
    "from common import *\n",
    "\n",
    "%matplotlib inline\n",
    "\n",
    "# Load Bottleneck Features\n",
    "features = np.load('data/bottleneck_features/yelp_resnet50_all.npz')\n",
    "\n",
    "# Features\n",
    "X = features['train_features']\n",
    "\n",
    "# Targets\n",
    "y = features['train_targets']\n",
    "\n",
    "print('Number of features: %d' % len(X))"
   ]
  },
  {
   "cell_type": "markdown",
   "metadata": {},
   "source": [
    "### B. Image Id\n",
    "We load the id of the images in the dataset as well was the table linking the photo id to the business id."
   ]
  },
  {
   "cell_type": "code",
   "execution_count": 2,
   "metadata": {
    "collapsed": true
   },
   "outputs": [],
   "source": [
    "import pandas as pd\n",
    "\n",
    "ids, _ = load_dataset('data/preprocess/train.npz')\n",
    "\n",
    "# Map the id of the photo to its index in (X,y)\n",
    "p2id = dict(zip(ids,range(len(ids))))\n",
    "\n",
    "# Read file mapping photo to business\n",
    "p2b = pd.read_csv('data/train_photo_to_biz_ids.csv', header = 0, names = ['photo','business'])"
   ]
  },
  {
   "cell_type": "markdown",
   "metadata": {},
   "source": [
    "## 2. Parameters of the Test\n",
    "\n",
    "The training dataset is divided into 14 samples. The thresholds span from 0.4 to 0.6 by steps of 0.01. "
   ]
  },
  {
   "cell_type": "code",
   "execution_count": 3,
   "metadata": {
    "collapsed": true
   },
   "outputs": [],
   "source": [
    "# Bins\n",
    "bins = np.arange(0, len(X)+1, 12580)\n",
    "\n",
    "# Thresholds\n",
    "threshold = np.arange(0.4,0.6,0.01)"
   ]
  },
  {
   "cell_type": "markdown",
   "metadata": {},
   "source": [
    "## 3. Classification\n",
    "\n",
    "For each sample, we make predictions using the classifier trained in [nn.ipynb](resnet50.ipynb) and average the output probabilities per business.  "
   ]
  },
  {
   "cell_type": "code",
   "execution_count": 4,
   "metadata": {},
   "outputs": [
    {
     "name": "stdout",
     "output_type": "stream",
     "text": [
      "_________________________________________________________________\n",
      "Layer (type)                 Output Shape              Param #   \n",
      "=================================================================\n",
      "global_average_pooling2d_1 ( (None, 2048)              0         \n",
      "_________________________________________________________________\n",
      "dense_1 (Dense)              (None, 1024)              2098176   \n",
      "_________________________________________________________________\n",
      "batch_normalization_1 (Batch (None, 1024)              4096      \n",
      "_________________________________________________________________\n",
      "dropout_1 (Dropout)          (None, 1024)              0         \n",
      "_________________________________________________________________\n",
      "dense_2 (Dense)              (None, 512)               524800    \n",
      "_________________________________________________________________\n",
      "batch_normalization_2 (Batch (None, 512)               2048      \n",
      "_________________________________________________________________\n",
      "dropout_2 (Dropout)          (None, 512)               0         \n",
      "_________________________________________________________________\n",
      "dense_3 (Dense)              (None, 256)               131328    \n",
      "_________________________________________________________________\n",
      "batch_normalization_3 (Batch (None, 256)               1024      \n",
      "_________________________________________________________________\n",
      "dense_4 (Dense)              (None, 9)                 2313      \n",
      "=================================================================\n",
      "Total params: 2,763,785.0\n",
      "Trainable params: 2,760,201.0\n",
      "Non-trainable params: 3,584.0\n",
      "_________________________________________________________________\n"
     ]
    }
   ],
   "source": [
    "from keras.models import Sequential\n",
    "from keras.layers import GlobalAveragePooling2D, MaxPooling2D\n",
    "from keras.layers import Conv2D, Dense, Dropout, BatchNormalization\n",
    "from keras.regularizers import l2\n",
    "\n",
    "model = Sequential()\n",
    "model.add(GlobalAveragePooling2D(input_shape=X.shape[1:]))\n",
    "\n",
    "model.add(Dense(1024, activation='relu', kernel_regularizer=l2(1e-4)))\n",
    "model.add(BatchNormalization())\n",
    "model.add(Dropout(0.3))\n",
    "\n",
    "model.add(Dense(512, activation='relu', kernel_regularizer=l2(1e-4)))\n",
    "model.add(BatchNormalization())\n",
    "model.add(Dropout(0.3))\n",
    "\n",
    "model.add(Dense(256, activation='relu', kernel_regularizer=l2(1e-4)))\n",
    "model.add(BatchNormalization())\n",
    "\n",
    "model.add(Dense(9, activation='sigmoid'))\n",
    "\n",
    "model.summary()"
   ]
  },
  {
   "cell_type": "markdown",
   "metadata": {},
   "source": [
    "Predictions are made using the above neural network. The weights, which have been calculated in this [notebook](nn.ipynb), are loaded."
   ]
  },
  {
   "cell_type": "code",
   "execution_count": 5,
   "metadata": {
    "collapsed": true
   },
   "outputs": [],
   "source": [
    "model.load_weights('data/saved_models/weights_resnet50.hdf5')\n",
    "predictions = model.predict(X)"
   ]
  },
  {
   "cell_type": "markdown",
   "metadata": {},
   "source": [
    "For each sample, we group the images by business and derive an average probability for each label. Using a unique threshold of 0.5 for each label, we calculate the $F_1$ score for each sample. Note that the score is high because we make predictions using the training dataset, i.e., the same dataset that has been used to train the model."
   ]
  },
  {
   "cell_type": "code",
   "execution_count": 6,
   "metadata": {
    "scrolled": false
   },
   "outputs": [
    {
     "name": "stdout",
     "output_type": "stream",
     "text": [
      "F1 score = 0.84837 for sample 1\n",
      "F1 score = 0.84469 for sample 2\n",
      "F1 score = 0.84878 for sample 3\n",
      "F1 score = 0.84800 for sample 4\n",
      "F1 score = 0.84949 for sample 5\n",
      "F1 score = 0.84813 for sample 6\n",
      "F1 score = 0.84882 for sample 7\n",
      "F1 score = 0.84719 for sample 8\n",
      "F1 score = 0.84683 for sample 9\n",
      "F1 score = 0.84740 for sample 10\n",
      "F1 score = 0.84908 for sample 11\n",
      "F1 score = 0.85079 for sample 12\n",
      "F1 score = 0.84916 for sample 13\n",
      "F1 score = 0.84886 for sample 14\n"
     ]
    }
   ],
   "source": [
    "combine = []\n",
    "label = []\n",
    "\n",
    "for s in range(0, len(bins)-1):\n",
    "    p2b_bin = p2b[p2b['photo'].isin(ids[bins[s]:bins[s+1]])]\n",
    "    b2p_bin = pd.DataFrame(p2b_bin.groupby('business')['photo'].apply(list))\n",
    "    biz_bin = b2p_bin.index.values\n",
    "    bags_bin = []\n",
    "    for b in biz_bin:\n",
    "        photos = b2p_bin.get_value(b,'photo')\n",
    "        if len(photos) >= 1:\n",
    "            bags_bin.append([p2id[photo] for photo in photos])\n",
    "    \n",
    "    combine_sample = []\n",
    "    label_sample = []\n",
    "    for i, biz in enumerate(bags_bin):\n",
    "        combine_sample.append(np.mean(predictions[biz],axis=0))\n",
    "        label_sample.append(y[biz[0]])\n",
    "    \n",
    "    combine.append(np.array(combine_sample))\n",
    "    label.append(np.array(label_sample))\n",
    "    \n",
    "    score_sample = f1_score(np.array(label_sample), (np.array(combine_sample) >= 0.5).astype(int))\n",
    "    print(\"F1 score = %.5f for sample %d\" % (score_sample, s+1))"
   ]
  },
  {
   "cell_type": "markdown",
   "metadata": {},
   "source": [
    "## 4. Results\n",
    "\n",
    "### A. Unique Threshold\n",
    "We apply a unique threshold to all 9 classes. The box and violin plots below show that a threshold of about 0.5 maximize the $F_1$ score."
   ]
  },
  {
   "cell_type": "code",
   "execution_count": 7,
   "metadata": {
    "scrolled": false
   },
   "outputs": [
    {
     "data": {
      "image/png": "[encoded data removed]",
      "text/plain": [
       "<matplotlib.figure.Figure at 0x187c7a3278>"
      ]
     },
     "metadata": {},
     "output_type": "display_data"
    }
   ],
   "source": [
    "fig, axes = plt.subplots(nrows=1, ncols=2, figsize=(20, 10))\n",
    "\n",
    "score = []\n",
    "for t in threshold:\n",
    "    score.append([f1_score(np.array(label[s]), (np.array(combine[s]) >= t).astype(int)) for s in range(len(combine))])\n",
    "\n",
    "\n",
    "# plots\n",
    "axes[0].boxplot(score)\n",
    "axes[1].violinplot(score, showmeans=True, showmedians=False)\n",
    "\n",
    "for ax in axes:\n",
    "    ax.yaxis.grid(True)\n",
    "    ax.set_xticks([i+1 for i in range(len(threshold))])\n",
    "    ax.set_xlabel('threshold')\n",
    "    ax.set_ylabel('F1 score')\n",
    "    ax.set_xticklabels(map(str,threshold))\n",
    "    \n",
    "\n",
    "# add x-tick labels\n",
    "plt.setp(axes, xticks=[i+1 for i in range(len(threshold))])\n",
    "plt.show()"
   ]
  },
  {
   "cell_type": "markdown",
   "metadata": {},
   "source": [
    "### B. Matthews Correlation Coefficient"
   ]
  },
  {
   "cell_type": "code",
   "execution_count": 8,
   "metadata": {
    "collapsed": true
   },
   "outputs": [],
   "source": [
    "from sklearn.metrics import matthews_corrcoef\n",
    "\n",
    "best_threshold = []\n",
    "\n",
    "for s in range(len(combine)):\n",
    "    combine_sample, label_sample = (combine[s], label[s])\n",
    "    for l in range(9):\n",
    "        mcc = []\n",
    "        for t in threshold:\n",
    "            mcc.append(matthews_corrcoef(label_sample[:,l],(combine_sample[:,l] >= t).astype(int)))\n",
    "        mcc = np.array(mcc)\n",
    "        best_threshold.append(threshold[np.where(mcc==mcc.max())[0][0]])\n",
    "\n",
    "best_threshold = np.median(np.array(best_threshold).reshape(len(combine),9), axis=0)"
   ]
  },
  {
   "cell_type": "code",
   "execution_count": 9,
   "metadata": {},
   "outputs": [
    {
     "name": "stdout",
     "output_type": "stream",
     "text": [
      "F1 score: 0.84637 (sample 1), 0.84837 (threshold = 0.5)\n",
      "F1 score: 0.84454 (sample 2), 0.84469 (threshold = 0.5)\n",
      "F1 score: 0.84797 (sample 3), 0.84878 (threshold = 0.5)\n",
      "F1 score: 0.84735 (sample 4), 0.84800 (threshold = 0.5)\n",
      "F1 score: 0.85038 (sample 5), 0.84949 (threshold = 0.5)\n",
      "F1 score: 0.84863 (sample 6), 0.84813 (threshold = 0.5)\n",
      "F1 score: 0.84743 (sample 7), 0.84882 (threshold = 0.5)\n",
      "F1 score: 0.84703 (sample 8), 0.84719 (threshold = 0.5)\n",
      "F1 score: 0.84561 (sample 9), 0.84683 (threshold = 0.5)\n",
      "F1 score: 0.84522 (sample 10), 0.84740 (threshold = 0.5)\n",
      "F1 score: 0.84815 (sample 11), 0.84908 (threshold = 0.5)\n",
      "F1 score: 0.85089 (sample 12), 0.85079 (threshold = 0.5)\n",
      "F1 score: 0.84928 (sample 13), 0.84916 (threshold = 0.5)\n",
      "F1 score: 0.84724 (sample 14), 0.84886 (threshold = 0.5)\n"
     ]
    }
   ],
   "source": [
    "for s in range(len(combine)):\n",
    "    combine_sample, label_sample = (combine[s], label[s])\n",
    "    predictions_sample = []\n",
    "    reference_sample = []\n",
    "    for b in range(len(combine_sample)):\n",
    "        for l in range(len(combine_sample[0])):\n",
    "            predictions_sample.append(1 if combine_sample[b,l] >= best_threshold[l] else 0)\n",
    "            reference_sample.append(1 if combine_sample[b,l] >= 0.5 else 0)\n",
    "    predictions_sample = np.array(predictions_sample).reshape(len(combine_sample),9)\n",
    "    reference_sample = np.array(reference_sample).reshape(len(combine_sample),9)\n",
    "\n",
    "    print('F1 score: %.5f (sample %d), %.5f (threshold = 0.5)' % (f1_score(label_sample, \n",
    "                                                                           predictions_sample),\n",
    "                                                                  s+1,\n",
    "                                                                  f1_score(label_sample,\n",
    "                                                                           reference_sample)))"
   ]
  },
  {
   "cell_type": "code",
   "execution_count": 10,
   "metadata": {},
   "outputs": [
    {
     "name": "stdout",
     "output_type": "stream",
     "text": [
      "[ 0.43   0.55   0.535  0.525  0.545  0.54   0.55   0.47   0.5  ]\n"
     ]
    }
   ],
   "source": [
    "print(best_threshold)"
   ]
  }
 ],
 "metadata": {
  "kernelspec": {
   "display_name": "deeplearning",
   "language": "python",
   "name": "deeplearning"
  },
  "language_info": {
   "codemirror_mode": {
    "name": "ipython",
    "version": 3
   },
   "file_extension": ".py",
   "mimetype": "text/x-python",
   "name": "python",
   "nbconvert_exporter": "python",
   "pygments_lexer": "ipython3",
   "version": "3.5.3"
  }
 },
 "nbformat": 4,
 "nbformat_minor": 2
}
