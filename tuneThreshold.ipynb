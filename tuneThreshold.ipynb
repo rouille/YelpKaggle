{
 "cells": [
  {
   "cell_type": "markdown",
   "metadata": {},
   "source": [
    "# Threshold for $F_1$ score calculation\n",
    "---\n",
    "The optimal threshold for converting the probabilities obtained after classification -- as returned by the sigmoid activation function -- to labels (0 are 1) is determined using a simple procedure. First, the training dataset is divided into equal sets. Then, for each set, the $F_1$ score is calculated for various threshold and box/violin plots are built. \n",
    "\n",
    "\n",
    "## 1. Load Tensors and Targets\n",
    "\n",
    "The training, validation and test tensors along with the associated targets are loaded."
   ]
  },
  {
   "cell_type": "code",
   "execution_count": 1,
   "metadata": {},
   "outputs": [
    {
     "name": "stderr",
     "output_type": "stream",
     "text": [
      "Using TensorFlow backend.\n"
     ]
    }
   ],
   "source": [
    "import numpy as np\n",
    "import matplotlib.pyplot as plt\n",
    "\n",
    "from common import *\n",
    "\n",
    "%matplotlib inline\n",
    "\n",
    "bottleneck_features = np.load('data/bottleneck_features/yelp_resnet50_50k.npz')\n",
    "\n",
    "X_train = bottleneck_features['train_features'].reshape(50000,2048)\n",
    "X_valid = bottleneck_features['valid_features'].reshape(5000,2048)\n",
    "X_test  = bottleneck_features['test_features'].reshape(5000,2048)\n",
    "\n",
    "y_train = bottleneck_features['train_targets']\n",
    "y_valid = bottleneck_features['valid_targets']\n",
    "y_test  = bottleneck_features['test_targets']"
   ]
  },
  {
   "cell_type": "markdown",
   "metadata": {},
   "source": [
    "## 2. Features scaling\n",
    "\n",
    "The features are standardized by removing the mean and scaling to unit variance. The scaler is first derived on the training data and then applied on the training, validation and test data."
   ]
  },
  {
   "cell_type": "code",
   "execution_count": 2,
   "metadata": {
    "collapsed": true
   },
   "outputs": [],
   "source": [
    "from sklearn import preprocessing\n",
    "\n",
    "scaler = preprocessing.StandardScaler().fit(X_train)\n",
    "X_train_scaled = scaler.transform(X_train)\n",
    "X_valid_scaled = scaler.transform(X_valid)\n",
    "X_test_scaled  = scaler.transform(X_test)\n",
    "\n",
    "del X_train, X_valid, X_test"
   ]
  },
  {
   "cell_type": "markdown",
   "metadata": {},
   "source": [
    "## 3. Principal Component Analysis\n",
    "\n",
    "A principal component analysis (PCA) is carried out. See this [notebook](xgboost.ipynb) for details."
   ]
  },
  {
   "cell_type": "code",
   "execution_count": 3,
   "metadata": {
    "collapsed": true
   },
   "outputs": [],
   "source": [
    "from sklearn.decomposition import PCA\n",
    "n_comp = 200\n",
    "pca = PCA(n_components=n_comp, svd_solver='randomized', whiten=True)\n",
    "pca.fit(X_train_scaled)\n",
    "\n",
    "X_train_reduced = pca.transform(X_train_scaled)\n",
    "X_valid_reduced = pca.transform(X_valid_scaled)\n",
    "X_test_reduced = pca.transform(X_test_scaled)\n",
    "\n",
    "del X_train_scaled, X_valid_scaled, X_test_scaled"
   ]
  },
  {
   "cell_type": "markdown",
   "metadata": {},
   "source": [
    "## 4. Parameters of the Test\n",
    "\n",
    "The training/validation/test sets re divided into 50 samples. The threshold span from 0.25 to 0.75 by steps of 0.05. "
   ]
  },
  {
   "cell_type": "code",
   "execution_count": 4,
   "metadata": {
    "collapsed": true
   },
   "outputs": [],
   "source": [
    "size_train = 1000\n",
    "bins_train = range(0, 50000, size_train)\n",
    "\n",
    "size_valid = size_train//10\n",
    "bins_valid = range(0, 5000, size_valid)\n",
    "bins_test = bins_valid\n",
    "\n",
    "threshold = [x/100. for x in range(25,75,5)]"
   ]
  },
  {
   "cell_type": "markdown",
   "metadata": {},
   "source": [
    "## 5. Classification with XGBoost\n",
    "\n",
    "The XGBoost model is used for classification. The parameters used in this [notebook](xgboost.ipynb) are used. The $F_1$score for each couple (sample,threshold) are printed and stored in a table."
   ]
  },
  {
   "cell_type": "code",
   "execution_count": 5,
   "metadata": {
    "scrolled": false
   },
   "outputs": [
    {
     "name": "stdout",
     "output_type": "stream",
     "text": [
      "Sample 0/50: F1 score = [ 0.73919755  0.75        0.75890636  0.75513697  0.75942552  0.72888017\n",
      "  0.702407    0.66117644  0.62626261  0.5888738 ]\n",
      "Sample 1/50: F1 score = [ 0.73798448  0.745004    0.74959081  0.73909324  0.74007219  0.71428573\n",
      "  0.68596882  0.65384614  0.6041131   0.54469275]\n",
      "Sample 2/50: F1 score = [ 0.70145816  0.70109546  0.71071714  0.7085427   0.71299636  0.69484538\n",
      "  0.63145542  0.58611828  0.56790125  0.52478135]\n",
      "Sample 3/50: F1 score = [ 0.67417538  0.6906957   0.70123023  0.70631289  0.71119845  0.68490154\n",
      "  0.65577888  0.62585032  0.57720059  0.52950078]\n",
      "Sample 4/50: F1 score = [ 0.69068128  0.6963563   0.6970464   0.70785522  0.70075756  0.67232239\n",
      "  0.62588233  0.57697284  0.50218976  0.40000001]\n",
      "Sample 5/50: F1 score = [ 0.73323172  0.74079877  0.74354839  0.75407028  0.73076922  0.68872803\n",
      "  0.65988702  0.61519903  0.58748406  0.54297405]\n",
      "Sample 6/50: F1 score = [ 0.7415902   0.7480315   0.75468624  0.75767916  0.74683547  0.72289157\n",
      "  0.68201756  0.63905323  0.57106274  0.51162791]\n",
      "Sample 7/50: F1 score = [ 0.70361817  0.7141726   0.71854305  0.72318339  0.71771216  0.68921775\n",
      "  0.62318838  0.60051548  0.57489878  0.53945482]\n",
      "Sample 8/50: F1 score = [ 0.7096774   0.7154088   0.72343874  0.72497898  0.72743845  0.69278353\n",
      "  0.66666669  0.63272727  0.59020621  0.55376345]\n",
      "Sample 9/50: F1 score = [ 0.70615745  0.72032523  0.72681707  0.73490816  0.74384683  0.70588237\n",
      "  0.65804935  0.63333333  0.5883978   0.53294289]\n",
      "Sample 10/50: F1 score = [ 0.71950275  0.72296762  0.72964168  0.73621714  0.73381293  0.70816326\n",
      "  0.67044169  0.63746959  0.59948319  0.57759786]\n",
      "Sample 11/50: F1 score = [ 0.74195963  0.74524713  0.75115919  0.75362319  0.74914092  0.71358746\n",
      "  0.67042887  0.62621361  0.57105941  0.52588558]\n",
      "Sample 12/50: F1 score = [ 0.72532517  0.73421669  0.73836279  0.7408638   0.74645388  0.70647776\n",
      "  0.67945826  0.65077472  0.62103927  0.58744991]\n",
      "Sample 13/50: F1 score = [ 0.71405226  0.7154882   0.72202796  0.71636361  0.70296085  0.69861555\n",
      "  0.63771713  0.59782606  0.50903612  0.41930115]\n",
      "Sample 14/50: F1 score = [ 0.71287131  0.71887237  0.71428573  0.70946503  0.71979433  0.68979186\n",
      "  0.62133646  0.56516129  0.49715909  0.431853  ]\n",
      "Sample 15/50: F1 score = [ 0.73425502  0.73826569  0.74418604  0.74605954  0.75        0.70734227\n",
      "  0.6511628   0.60583019  0.55144036  0.44309559]\n",
      "Sample 16/50: F1 score = [ 0.73148149  0.74538153  0.75335568  0.75043631  0.74771482  0.73852295\n",
      "  0.68609864  0.63940519  0.56396151  0.46525681]\n",
      "Sample 17/50: F1 score = [ 0.72838563  0.7383399   0.74752474  0.75279933  0.75296265  0.75510204\n",
      "  0.68208092  0.65931374  0.58108109  0.50658858]\n",
      "Sample 18/50: F1 score = [ 0.66237944  0.66885245  0.67343485  0.67610621  0.68411213  0.66737515\n",
      "  0.6169154   0.57986575  0.55202311  0.50847459]\n",
      "Sample 19/50: F1 score = [ 0.69090909  0.70113087  0.71177948  0.72759229  0.73499537  0.73498964\n",
      "  0.68800002  0.65934068  0.62077922  0.58136302]\n",
      "Sample 20/50: F1 score = [ 0.7282694   0.72683322  0.7317881   0.7292912   0.7217235   0.68680763\n",
      "  0.64882946  0.59975219  0.54447442  0.4481203 ]\n",
      "Sample 21/50: F1 score = [ 0.70937502  0.7139442   0.72396696  0.71566057  0.71243042  0.70113754\n",
      "  0.67124856  0.64436185  0.59574467  0.52554744]\n",
      "Sample 22/50: F1 score = [ 0.71517998  0.72285253  0.7315436   0.73157895  0.73193049  0.69262296\n",
      "  0.64386791  0.60025871  0.52706552  0.42745709]\n",
      "Sample 23/50: F1 score = [ 0.7060703   0.71189278  0.71540469  0.71299636  0.71035135  0.70168066\n",
      "  0.62905163  0.60313314  0.55307263  0.49541286]\n",
      "Sample 24/50: F1 score = [ 0.70532918  0.72534639  0.7208122   0.71758437  0.72336447  0.70769233\n",
      "  0.66666669  0.64040661  0.56022412  0.43243244]\n",
      "Sample 25/50: F1 score = [ 0.71363634  0.72187501  0.72742069  0.73203719  0.72775328  0.70599806\n",
      "  0.68421054  0.60922331  0.54761904  0.47510669]\n",
      "Sample 26/50: F1 score = [ 0.7295019   0.73667711  0.7337088   0.73825502  0.73920864  0.71442986\n",
      "  0.66200465  0.60512823  0.5316456   0.46686748]\n",
      "Sample 27/50: F1 score = [ 0.73088688  0.73421669  0.73983741  0.74275982  0.73333335  0.70553362\n",
      "  0.66740578  0.64209276  0.58928573  0.53783786]\n",
      "Sample 28/50: F1 score = [ 0.71472394  0.72037917  0.72149837  0.72788543  0.73162091  0.71007121\n",
      "  0.63657957  0.56806284  0.53920221  0.5007236 ]\n",
      "Sample 29/50: F1 score = [ 0.68986851  0.69718874  0.70320404  0.70725155  0.70218837  0.67940551\n",
      "  0.59343433  0.56284153  0.49925262  0.40531561]\n",
      "Sample 30/50: F1 score = [ 0.70953101  0.70997679  0.70896113  0.7217176   0.7306338   0.70883536\n",
      "  0.64896071  0.60718709  0.55689424  0.50144929]\n",
      "Sample 31/50: F1 score = [ 0.68878359  0.6942417   0.6937086   0.69999999  0.71074378  0.69565219\n",
      "  0.66587955  0.61558443  0.56294203  0.52108431]\n",
      "Sample 32/50: F1 score = [ 0.69308472  0.6953063   0.70892411  0.70496082  0.70309657  0.68535823\n",
      "  0.60628021  0.5714286   0.52616692  0.47706422]\n",
      "Sample 33/50: F1 score = [ 0.72684461  0.73479319  0.73905724  0.73848826  0.73617405  0.74059004\n",
      "  0.69239765  0.65577888  0.60351825  0.5186289 ]\n",
      "Sample 34/50: F1 score = [ 0.70615387  0.71338582  0.72149837  0.72758329  0.72181821  0.70756644\n",
      "  0.69012487  0.64206642  0.58575195  0.51936871]\n",
      "Sample 35/50: F1 score = [ 0.73780489  0.74804384  0.7485761   0.74576271  0.73796791  0.70916337\n",
      "  0.66436779  0.59277707  0.52303523  0.45821327]\n",
      "Sample 36/50: F1 score = [ 0.7459138   0.74281394  0.75450981  0.76307189  0.76073617  0.75643563\n",
      "  0.66969353  0.63414633  0.60435337  0.53611112]\n",
      "Sample 37/50: F1 score = [ 0.72811776  0.736       0.73887491  0.7486819   0.75023043  0.71604937\n",
      "  0.67967856  0.63432837  0.59072846  0.52482271]\n",
      "Sample 38/50: F1 score = [ 0.72018707  0.72888172  0.73500001  0.7317909   0.72500002  0.70927835\n",
      "  0.65181714  0.62199748  0.58713138  0.51734102]\n",
      "Sample 39/50: F1 score = [ 0.73166925  0.731668    0.74043262  0.74585152  0.7468124   0.72943509\n",
      "  0.70329672  0.67142856  0.62113404  0.54289734]\n",
      "Sample 40/50: F1 score = [ 0.73015875  0.74272227  0.75409836  0.75487703  0.74843329  0.73088384\n",
      "  0.67436492  0.62421972  0.56684494  0.48633093]\n",
      "Sample 41/50: F1 score = [ 0.70015222  0.71149337  0.72550607  0.72635138  0.72386056  0.7124117\n",
      "  0.64155531  0.58634537  0.53868192  0.49397591]\n",
      "Sample 42/50: F1 score = [ 0.76261127  0.7749809   0.78588611  0.7845118   0.76610768  0.74224806\n",
      "  0.69247311  0.66515321  0.59479553  0.51742625]\n",
      "Sample 43/50: F1 score = [ 0.7024467   0.710356    0.71621621  0.72134036  0.71481484  0.6905005\n",
      "  0.64277178  0.5551129   0.50784594  0.44444445]\n",
      "Sample 44/50: F1 score = [ 0.68633538  0.68754894  0.69200319  0.69174165  0.71531534  0.69353127\n",
      "  0.62299132  0.59317583  0.57261413  0.5280236 ]\n",
      "Sample 45/50: F1 score = [ 0.7265861   0.7352941   0.73819053  0.74074072  0.73118281  0.71230161\n",
      "  0.67785233  0.62653565  0.57640749  0.49262536]\n",
      "Sample 46/50: F1 score = [ 0.7171793   0.72924745  0.72903228  0.74766356  0.74014336  0.70753771\n",
      "  0.64665127  0.6239211   0.58234519  0.53072625]\n",
      "Sample 47/50: F1 score = [ 0.70170015  0.705414    0.70627064  0.7137931   0.71310723  0.70062369\n",
      "  0.65471923  0.6177606   0.55678672  0.4954955 ]\n",
      "Sample 48/50: F1 score = [ 0.70790917  0.71164656  0.71815944  0.71965814  0.71636361  0.70401692\n",
      "  0.62357414  0.58366799  0.53142858  0.46296296]\n",
      "Sample 49/50: F1 score = [ 0.71302956  0.72787428  0.72758329  0.72939068  0.71901608  0.69087136\n",
      "  0.63454759  0.60529631  0.57297295  0.52863437]\n"
     ]
    }
   ],
   "source": [
    "import xgboost as xgb\n",
    "\n",
    "param = {}\n",
    "param['objective'] = 'binary:logistic'\n",
    "param['eta'] = 0.015\n",
    "param['max_depth'] = 10\n",
    "param['subsample'] = 0.5\n",
    "param['eval_metric'] = 'logloss'\n",
    "param['colsample_bytree'] = 0.3\n",
    "param['nthread'] = 4\n",
    "\n",
    "num_round = 500\n",
    "\n",
    "y_hat = np.array([[0]*9]*(size_valid), dtype=np.float32)\n",
    "f1_scores_ovr = np.array([[0]*len(bins_train)]*len(threshold), dtype=np.float32)\n",
    "\n",
    "for s in range(0,len(bins_train)):\n",
    "    for l in range(9):\n",
    "        xg_train = xgb.DMatrix(X_train_reduced[bins_train[s]:bins_train[s]+size_train], \n",
    "                               label=y_train[bins_train[s]:bins_train[s]+size_train,l])\n",
    "        xg_valid = xgb.DMatrix(X_valid_reduced[bins_valid[s]:bins_valid[s]+size_valid], \n",
    "                               label=y_valid[bins_valid[s]:bins_valid[s]+size_valid,l])\n",
    "        xg_test = xgb.DMatrix(X_test_reduced[bins_test[s]:bins_test[s]+size_valid], \n",
    "                              label=y_test[bins_test[s]:bins_test[s]+size_valid,l])\n",
    "\n",
    "        eval_list = [(xg_train, 'train'),(xg_valid, 'valid')]\n",
    "        model = xgb.train(param, xg_train, num_round, eval_list, verbose_eval=False, \n",
    "                          early_stopping_rounds=10)\n",
    "\n",
    "        y_hat[:,l] = model.predict(xg_test)\n",
    "    \n",
    "    \n",
    "    f1_scores_ovr[:,s] = [f1_score(y_test[bins_test[s]:bins_test[s]+size_valid,:], (y_hat >= t).astype(int)) \n",
    "                          for t in threshold]\n",
    "    print(\"Sample %d/%d: F1 score =\" % (s, len(bins_train)), f1_scores_ovr[:,s])\n",
    "\n",
    "del xg_train, xg_valid, xg_test"
   ]
  },
  {
   "cell_type": "markdown",
   "metadata": {},
   "source": [
    "## 6. Results\n",
    "\n",
    "The box and violin plots are plotted."
   ]
  },
  {
   "cell_type": "code",
   "execution_count": 6,
   "metadata": {
    "scrolled": false
   },
   "outputs": [
    {
     "data": {
      "image/png": "[encoded data removed]",
      "text/plain": [
       "<matplotlib.figure.Figure at 0x181353ef60>"
      ]
     },
     "metadata": {},
     "output_type": "display_data"
    }
   ],
   "source": [
    "fig, axes = plt.subplots(nrows=1, ncols=2, figsize=(20, 10))\n",
    "\n",
    "# box plot\n",
    "axes[0].boxplot(list(f1_scores_ovr))\n",
    "axes[0].set_title('F1 scores')\n",
    "\n",
    "# violin plot\n",
    "axes[1].violinplot(list(f1_scores_ovr), showmeans=True, showmedians=False)\n",
    "axes[1].set_title('F1 scores')\n",
    "\n",
    "# adding horizontal grid lines\n",
    "for ax in axes:\n",
    "    ax.yaxis.grid(True)\n",
    "    ax.set_xticks([y+1 for y in range(len(threshold))])\n",
    "    ax.set_xlabel('threshold')\n",
    "    ax.set_ylabel('F1 score')\n",
    "    ax.set_xticklabels(map(str,threshold))\n",
    "    \n",
    "\n",
    "# add x-tick labels\n",
    "plt.setp(axes, xticks=[y+1 for y in range(len(threshold))])\n",
    "plt.show()"
   ]
  }
 ],
 "metadata": {
  "kernelspec": {
   "display_name": "deeplearning",
   "language": "python",
   "name": "deeplearning"
  },
  "language_info": {
   "codemirror_mode": {
    "name": "ipython",
    "version": 3
   },
   "file_extension": ".py",
   "mimetype": "text/x-python",
   "name": "python",
   "nbconvert_exporter": "python",
   "pygments_lexer": "ipython3",
   "version": "3.5.3"
  }
 },
 "nbformat": 4,
 "nbformat_minor": 2
}
